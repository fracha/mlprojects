{
 "cells": [
  {
   "cell_type": "code",
   "execution_count": 1,
   "metadata": {
    "collapsed": true
   },
   "outputs": [],
   "source": [
    "import matplotlib\n",
    "import numpy as np\n",
    "import matplotlib.cm as cm\n",
    "import matplotlib.mlab as mlab\n",
    "import matplotlib.pyplot as plt\n",
    "import csv\n",
    "import time\n",
    "import collections\n",
    "import random\n",
    "import timeit\n",
    "import math\n",
    "\n",
    "import scipy,sklearn,pylab\n",
    "from scipy import io\n",
    "\n",
    "from sklearn import model_selection,covariance\n",
    "from sklearn.model_selection import train_test_split,KFold\n",
    "from sklearn.feature_extraction import DictVectorizer\n",
    "\n",
    "matplotlib.rcParams['xtick.direction'] = 'out'\n",
    "matplotlib.rcParams['ytick.direction'] = 'out'\n",
    "matplotlib.rcParams['figure.figsize'] = (6,4)"
   ]
  },
  {
   "cell_type": "code",
   "execution_count": 2,
   "metadata": {
    "collapsed": true
   },
   "outputs": [],
   "source": [
    "letters = scipy.io.loadmat(\"hw6_data_dist/hw6_data_dist/letters_data\")"
   ]
  },
  {
   "cell_type": "code",
   "execution_count": 3,
   "metadata": {
    "collapsed": false
   },
   "outputs": [
    {
     "data": {
      "text/plain": [
       "{'__globals__': [],\n",
       " '__header__': b'MATLAB 5.0 MAT-file Platform: posix, Created on: Fri Mar 24 11:58:28 2017',\n",
       " '__version__': '1.0',\n",
       " 'test_x': array([[0, 0, 0, ..., 0, 0, 0],\n",
       "        [0, 0, 0, ..., 0, 0, 0],\n",
       "        [0, 0, 0, ..., 0, 0, 0],\n",
       "        ..., \n",
       "        [0, 0, 0, ..., 0, 0, 0],\n",
       "        [0, 0, 0, ..., 0, 0, 0],\n",
       "        [0, 0, 0, ..., 0, 0, 0]], dtype=uint8),\n",
       " 'train_x': array([[0, 0, 0, ..., 0, 0, 0],\n",
       "        [0, 0, 0, ..., 0, 0, 0],\n",
       "        [0, 0, 0, ..., 0, 0, 0],\n",
       "        ..., \n",
       "        [0, 0, 0, ..., 0, 0, 0],\n",
       "        [0, 0, 0, ..., 0, 0, 0],\n",
       "        [0, 0, 0, ..., 0, 0, 0]], dtype=uint8),\n",
       " 'train_y': array([[23],\n",
       "        [ 7],\n",
       "        [16],\n",
       "        ..., \n",
       "        [13],\n",
       "        [15],\n",
       "        [19]], dtype=uint8)}"
      ]
     },
     "execution_count": 3,
     "metadata": {},
     "output_type": "execute_result"
    }
   ],
   "source": [
    "letters\n"
   ]
  },
  {
   "cell_type": "code",
   "execution_count": 4,
   "metadata": {
    "collapsed": false
   },
   "outputs": [],
   "source": [
    "class NNet:\n",
    "    def __init__(self,vpath=None,wpath=None,h_units = 200, gaus = False):\n",
    "        self.h_units = h_units\n",
    "        self.losspt = []\n",
    "        if vpath:\n",
    "            self.V = np.loadtxt(vpath,dtype = np.float64)\n",
    "        else:\n",
    "            if gaus:\n",
    "                self.V = np.random.normal(\n",
    "                    0,1/math.sqrt(785),\n",
    "                    size=(h_units,785)).astype(np.float64)\n",
    "            else:\n",
    "                self.V = np.random.uniform(\n",
    "                    -1/math.sqrt(785),1/math.sqrt(785),\n",
    "                    size =(h_units,785)).astype(np.float64)\n",
    "        if wpath:\n",
    "            self.W = np.loadtxt(wpath,dtype = np.float64)\n",
    "        else:\n",
    "            if gaus:\n",
    "                self.W = np.random.normal(\n",
    "                    0,1/math.sqrt(h_units+1),\n",
    "                    size=(26,h_units+1)).astype(np.float64)\n",
    "            else:\n",
    "                self.W = np.random.uniform(\n",
    "                    -1/math.sqrt(h_units+1),1/math.sqrt(h_units+1),\n",
    "                    size=(26,h_units+1)).astype(np.float64) \n",
    "        \n",
    "    def s(self,x):\n",
    "        e_x = np.exp(x - np.max(x),dtype=np.float64)\n",
    "        return e_x / e_x.sum()\n",
    "    def sig(self,x):\n",
    "        return scipy.special.expit(x)\n",
    "    def Sf(self,x):            \n",
    "        return np.apply_along_axis(self.s,0,x)\n",
    "        \n",
    "    def Sf2(self,x):\n",
    "        e_x = np.exp(x - np.max(x),dtype=np.float64)\n",
    "        return e_x / e_x.sum(axis=0)\n",
    "    def save(self,vpath,wpath):\n",
    "        np.savetxt(vpath,self.V)\n",
    "        np.savetxt(wpath,self.W)\n",
    "    def updateR(self,X,Y,maskV,e1,e2,batch_size,plot=False):\n",
    "        H = np.maximum(0,self.V.dot(X.T)) \n",
    "        Hb = np.concatenate((H,np.ones((1,batch_size),dtype=np.float64)),0)\n",
    "        #Hb[maskV]=0\n",
    "        Z = self.Sf(self.W.dot(Hb))\n",
    "        S = self.Sf(self.W.dot(Hb))-Y.T\n",
    "        #DLW = S.dot(Hb.T)\n",
    "        #DLV = (self.W.T.dot(S)[:-1]*(H>=0)).dot(X)\n",
    "        #T = self.W.T.dot(S)[:-1]\n",
    "        #T[H<0]=0    \n",
    "        #DLV[maskV[:-1]]=0\n",
    "        if plot: \n",
    "            self.losspt.append(self.softloss(Y,Z,batch_size))\n",
    "        self.V -= e1*((H>=0)*self.W.T.dot(S)[:-1]).dot(X)\n",
    "        self.W -= e2*S.dot(Hb.T)\n",
    "    def updateRd(self,X,Y,maskV,e1,e2,batch_size,plot=False):\n",
    "        H = np.maximum(0,self.V.dot(X.T)) \n",
    "        Hb = np.concatenate((H,np.ones((1,batch_size),dtype=np.float64)),0)\n",
    "        Hb[maskV]=0\n",
    "        Z = self.Sf(self.W.dot(Hb))\n",
    "        S = Z-Y.T\n",
    "        DLW = S.dot(Hb.T)\n",
    "        DLV = (self.W.T.dot(S)[:-1]*(H>=0)).dot(X)\n",
    "        DLV[maskV[:-1]]=0\n",
    "        self.V -= e1*DLV\n",
    "        self.W -= e2*DLW\n",
    "    \n",
    "    def updateS(self,X,Y,maskV,e1,e2,batch_size,l1=0.1,l2=0.1,plot=False):\n",
    "        H = np.tanh(self.V.dot(X.T))#*maskV\n",
    "        Hb = np.concatenate((H,np.ones((1,batch_size),dtype=np.float64)),0)\n",
    "        #Hb[maskV]=0\n",
    "        Z = scipy.special.expit(self.W.dot(Hb))\n",
    "        if plot: \n",
    "            self.losspt.append(self.logisloss(Y,Z,batch_size))\n",
    "        S = Z-Y.T\n",
    "        #DLW = S.dot(Hb.T)\n",
    "        #DLV = (self.W.T.dot(S)[:-1]*(1-H**2)).dot(X)\n",
    "        #DLV[maskV[:-1]]=0\n",
    "        self.V -= e1*(self.W.T.dot(S)[:-1]*(1-H**2)).dot(X)#+2*l1*self.V)#*maskV\n",
    "        self.W -= e2*S.dot(Hb.T)#+2*l2*self.W)   \n",
    "    def updateSd(self,X,Y,maskV,e1,e2,batch_size,l1=0.1,l2=0.1,plot=False):\n",
    "        #H1 = np.tanh(self.V.dot(X.T))#*maskV\n",
    "        #Hb1 = np.concatenate((H1,np.ones((1,batch_size),dtype=np.float32)),0)\n",
    "        #Hb1[np.logical_not(maskV)]=0\n",
    "        #Z1 = scipy.special.expit(self.W.dot(Hb1))\n",
    "        #S1 = Z1-Y.T\n",
    "        #DLW1 = S1.dot(Hb1.T)\n",
    "        #DLV1 = (self.W.T.dot(S1)[:-1]*(1-H1**2)).dot(X)\n",
    "        \n",
    "        H = np.tanh(self.V[maskV[:-1]].dot(X.T))#*maskV\n",
    "        Hb = np.concatenate((H,np.ones((1,batch_size),dtype=np.float64)),0)\n",
    "        #Z = scipy.special.expit(self.W[:,maskV].dot(Hb))\n",
    "        S = scipy.special.expit(self.W[:,maskV].dot(Hb))-Y.T\n",
    "        #DLW = S.dot(Hb.T)\n",
    "        #DLV = (self.W[:,maskV].T.dot(S)[:-1]*(1-H**2)).dot(X)\n",
    "        #DLV[maskV[:-1]]=0        \n",
    "        self.V[maskV[:-1]] -= e1*(self.W[:,maskV].T.dot(S)[:-1]*(\n",
    "            1-H**2)).dot(X)#+2*l1*self.V)#*maskV\n",
    "        self.W[:,maskV] -= e2*S.dot(Hb.T)#+2*l2*self.W)   \n",
    "    def update(self,X,Y,maskV,e1,e2,batch_size,l1=0.1,l2=0.1,plot=False):\n",
    "        \n",
    "        H = np.tanh(self.V.dot(X.T))#*maskV\n",
    "        Hb = np.concatenate((H,np.ones((1,batch_size),dtype=np.float64)),0)\n",
    "        #Hb[maskV]=0\n",
    "        #print(Hb.shape)\n",
    "        #print(self.W.shape)\n",
    "        Z = self.Sf(self.W.dot(Hb))\n",
    "        #print(S.shape)\n",
    "        S = Z-Y.T\n",
    "        if plot: \n",
    "            self.losspt.append(self.softloss(Y,Z,batch_size))\n",
    "        #DLW = S.dot(Hb.T)\n",
    "        #DLV = (self.W.T.dot(S)[:-1]*(1-H**2)).dot(X)\n",
    "        #DLV[maskV[:-1]]=0\n",
    "        #print(DLW)\n",
    "        self.V -= e1*(self.W.T.dot(S)[:-1]*(1-H**2)).dot(X)#+2*l1*self.V)#*maskV\n",
    "        self.W -= e2*S.dot(Hb.T)#+2*l2*self.W)\n",
    "    def updated(self,X,Y,maskV,e1,e2,batch_size,l1=0.1,l2=0.1,plot=False):\n",
    "        \n",
    "        H = np.tanh(self.V[maskV[:-1]].dot(X.T))#*maskV\n",
    "        Hb = np.concatenate((H,np.ones((1,batch_size),dtype=np.float64)),0)\n",
    "        #Hb[maskV]=0\n",
    "        #print(Hb.shape)\n",
    "        #print(self.W.shape)\n",
    "        #Z = self.Sf(self.W[:,maskV].dot(Hb))\n",
    "        #print(S.shape)\n",
    "        S = self.Sf(self.W[:,maskV].dot(Hb))-Y.T\n",
    "        #DLW = S.dot(Hb.T)\n",
    "        #DLV = (self.W[:,maskV].T.dot(S)[:-1]*(1-H**2)).dot(X)\n",
    "        #DLV[maskV[:-1]]=0\n",
    "        #print(DLW)\n",
    "        self.V[maskV[:-1]] -= e1*(self.W[:,maskV].T.dot(S)[:-1]*(\n",
    "            1-H**2)).dot(X)\n",
    "        self.W[:,maskV] -= e2*S.dot(Hb.T)#+2*l2*self.W)\n",
    "\n",
    "    def train(self,data,labels,iterations,e1,e2,batch_size=1,\n",
    "              tanh=True,sigmoid=False,cool=False,dropout= False,plot=False):\n",
    "\n",
    "        d = labels.shape[0]\n",
    "        \n",
    "        Y = np.zeros((d,26),dtype=np.float64)\n",
    "        for i in range(d):\n",
    "            Y[i,labels[i]-1] = 1\n",
    " \n",
    "        X = np.concatenate((data,np.ones((d,1),dtype=np.float64)),1)\n",
    "        indices= np.arange(d)\n",
    "        if dropout:\n",
    "            if tanh: \n",
    "                update = self.updated\n",
    "                if sigmoid:\n",
    "                    update = self.updateSd\n",
    "            else:\n",
    "                update = self.updateRd\n",
    "        else:\n",
    "            if tanh: \n",
    "                update = self.update\n",
    "                if sigmoid:\n",
    "                    update = self.updateS\n",
    "            else:\n",
    "                update = self.updateR\n",
    "        if dropout:\n",
    "            for i in range(iterations):\n",
    "                np.random.shuffle(indices)     \n",
    "\n",
    "                e1p = e1*0.9**i if cool else e1\n",
    "                e2p = e2*0.9**i if cool else e2\n",
    "                for j in range(d//batch_size):\n",
    "                    rmaskV= np.random.binomial(\n",
    "                        1,0.5,size=self.h_units).astype(bool) \n",
    "                    maskV = np.append(rmaskV,[True])\n",
    "                    update(\n",
    "                        X[indices[j:j+batch_size]],\n",
    "                        Y[indices[j:j+batch_size]],\n",
    "                        maskV,e1=e1p/batch_size,e2=e2p/batch_size,\n",
    "                        batch_size = batch_size)\n",
    "        else:\n",
    "            maskV = None\n",
    "            for i in range(iterations):\n",
    "                np.random.shuffle(indices)\n",
    "\n",
    "                e1p = e1/(i+1) if cool else e1\n",
    "                e2p = e2/(i+1) if cool else e2\n",
    "                for j in range(d//batch_size):\n",
    "                    update(\n",
    "                        X[indices[j:j+batch_size]],\n",
    "                        Y[indices[j:j+batch_size]],\n",
    "                        maskV,e1=e1p/batch_size,e2=e2p/batch_size,\n",
    "                        batch_size = batch_size,plot=plot)\n",
    "                                           \n",
    "\n",
    "    def softloss(self,Y,Z,batch_size):\n",
    "        return -(Y*(np.log(Z.T))).sum()/batch_size\n",
    "        \n",
    "    def logisloss(self,Y,Z,batch_size):\n",
    "        return -(Y*(np.log(Z.T)) + (1-Y)*(np.log(1-Z.T))).sum()/batch_size\n",
    "    \n",
    "    def predictpoint(self,pt,tanh=True,sigmoid=False,dropout=False):\n",
    "        h= np.tanh(self.V.dot(pt)) if tanh else np.maximum(0,self.V.dot(pt))\n",
    "        if dropout:\n",
    "            h = h*1/2\n",
    "        z= self.sig(self.W.dot(np.append(h,[1]))) if sigmoid else self.s(\n",
    "            self.W.dot(np.append(h,[1]))) \n",
    "        return np.array([1+np.argmax(z)])\n",
    "    \n",
    "    def predict(self,data,tanh=True,sigmoid=False,dropout=False):\n",
    "        d= data.shape[0]\n",
    "        X = np.concatenate((data,np.ones((d,1),dtype=np.float64)),1)\n",
    "        H= np.tanh(self.V.dot(X.T)) if tanh else np.maximum(\n",
    "            0,self.V.dot(X.T))\n",
    "        if dropout:\n",
    "            H = 1/2*H\n",
    "        Hb = np.concatenate((H,np.ones((1,d),dtype=np.float64)),0)\n",
    "\n",
    "        Z = scipy.special.expit(self.W.dot(Hb)) if sigmoid else self.Sf(\n",
    "            self.W.dot(Hb))\n",
    "        \n",
    "        return (1+np.argmax(Z,0)).reshape(d,1)\n",
    "    \n",
    "    def score(self,v,lab,tanh=True,sigmoid=False,dropout=False):\n",
    "        return 1-(np.count_nonzero(lab-self.predict(\n",
    "            v,tanh,sigmoid,dropout))/lab.shape[0])\n",
    "    "
   ]
  },
  {
   "cell_type": "code",
   "execution_count": 5,
   "metadata": {
    "collapsed": false
   },
   "outputs": [
    {
     "data": {
      "text/plain": [
       "(99840, 784)"
      ]
     },
     "execution_count": 5,
     "metadata": {},
     "output_type": "execute_result"
    }
   ],
   "source": [
    "let_t, let_v, let_t_label,let_v_label=train_test_split(\n",
    "    letters['train_x'],letters['train_y'],test_size=0.2)\n",
    "let_t.shape\n"
   ]
  },
  {
   "cell_type": "code",
   "execution_count": 6,
   "metadata": {
    "collapsed": true
   },
   "outputs": [],
   "source": [
    "# def preprocessing function\n",
    "def preprocess(data,means=None):\n",
    "    if means is not None:\n",
    "        return means,((data-means)/255).astype(np.float32)\n",
    "    else:\n",
    "        m = np.mean(data,0)\n",
    "        return m,((data-m)/255).astype(np.float32)"
   ]
  },
  {
   "cell_type": "code",
   "execution_count": 7,
   "metadata": {
    "collapsed": true
   },
   "outputs": [],
   "source": [
    "let_t_means,plet_t = preprocess(let_t)"
   ]
  },
  {
   "cell_type": "code",
   "execution_count": 8,
   "metadata": {
    "collapsed": true
   },
   "outputs": [],
   "source": [
    "let_v_means,plet_v = preprocess(let_v,let_t_means)"
   ]
  },
  {
   "cell_type": "code",
   "execution_count": 9,
   "metadata": {
    "collapsed": true
   },
   "outputs": [],
   "source": [
    "let_means,plet = preprocess(letters['train_x'])"
   ]
  },
  {
   "cell_type": "code",
   "execution_count": 10,
   "metadata": {
    "collapsed": false
   },
   "outputs": [],
   "source": [
    "let_f_means,plet_f = preprocess(letters['test_x'],let_means)"
   ]
  },
  {
   "cell_type": "code",
   "execution_count": 15,
   "metadata": {
    "collapsed": false
   },
   "outputs": [],
   "source": [
    "nnet = NNet(h_units=200,gaus=True) "
   ]
  },
  {
   "cell_type": "code",
   "execution_count": null,
   "metadata": {
    "collapsed": false,
    "scrolled": true
   },
   "outputs": [],
   "source": [
    "t0 = time.time()\n",
    "nnet.train(plet_t,let_t_label,10,0.01,0.01,batch_size = 1,\n",
    "           tanh=True,sigmoid=True,dropout=False,cool=True,plot=True)\n",
    "t1 = time.time()\n",
    "print(t1-t0)"
   ]
  },
  {
   "cell_type": "code",
   "execution_count": null,
   "metadata": {
    "collapsed": false
   },
   "outputs": [],
   "source": [
    "nnet.score(plet_t,let_t_label,tanh=True,sigmoid=True)"
   ]
  },
  {
   "cell_type": "code",
   "execution_count": null,
   "metadata": {
    "collapsed": false,
    "scrolled": true
   },
   "outputs": [],
   "source": [
    "nnet.score(plet_v,let_v_label,tanh=True,sigmoid=True,dropout=False)"
   ]
  },
  {
   "cell_type": "code",
   "execution_count": 519,
   "metadata": {
    "collapsed": false
   },
   "outputs": [
    {
     "data": {
      "image/png": "[encoded data removed]",
      "text/plain": [
       "<matplotlib.figure.Figure at 0x23204ee33c8>"
      ]
     },
     "metadata": {},
     "output_type": "display_data"
    }
   ],
   "source": [
    "plt.plot(np.arange(10000),nnet.losspt[:10000])\n",
    "plt.title('Problem 2')\n",
    "plt.ylabel(\"Loss\")\n",
    "plt.xlabel(\"Number of iterations\")\n",
    "plt.show()"
   ]
  },
  {
   "cell_type": "code",
   "execution_count": 516,
   "metadata": {
    "collapsed": false
   },
   "outputs": [],
   "source": [
    "p = nnet.predict(plet_v,sigmoid=True)\n",
    "truec = let_v_label[(p-let_v_label ==0).T[0]]\n",
    "predicted = nnet.predict(plet_v[(p-let_v_label !=0).T[0]],sigmoid=True)\n",
    "true = let_v_label[(p-let_v_label !=0).T[0]]"
   ]
  },
  {
   "cell_type": "code",
   "execution_count": 520,
   "metadata": {
    "collapsed": false
   },
   "outputs": [
    {
     "data": {
      "image/png": "[encoded data removed]",
      "text/plain": [
       "<matplotlib.figure.Figure at 0x2320509aa20>"
      ]
     },
     "metadata": {},
     "output_type": "display_data"
    },
    {
     "name": "stdout",
     "output_type": "stream",
     "text": [
      "True Label: [3]\n"
     ]
    }
   ],
   "source": [
    "plt.imshow(plet_v[(p-let_v_label ==0).T[0]][0].reshape(28,28))\n",
    "plt.show()\n",
    "print(\"True Label:\",truec[0])"
   ]
  },
  {
   "cell_type": "code",
   "execution_count": 521,
   "metadata": {
    "collapsed": false
   },
   "outputs": [
    {
     "data": {
      "image/png": "[encoded data removed]",
      "text/plain": [
       "<matplotlib.figure.Figure at 0x23204ee3f98>"
      ]
     },
     "metadata": {},
     "output_type": "display_data"
    },
    {
     "name": "stdout",
     "output_type": "stream",
     "text": [
      "True Label: [18]\n"
     ]
    }
   ],
   "source": [
    "plt.imshow(plet_v[(p-let_v_label ==0).T[0]][1].reshape(28,28))\n",
    "plt.show()\n",
    "print(\"True Label:\",truec[1])"
   ]
  },
  {
   "cell_type": "code",
   "execution_count": 522,
   "metadata": {
    "collapsed": false
   },
   "outputs": [
    {
     "data": {
      "image/png": "[encoded data removed]",
      "text/plain": [
       "<matplotlib.figure.Figure at 0x23200345dd8>"
      ]
     },
     "metadata": {},
     "output_type": "display_data"
    },
    {
     "name": "stdout",
     "output_type": "stream",
     "text": [
      "True Label: [15]\n"
     ]
    }
   ],
   "source": [
    "plt.imshow(plet_v[(p-let_v_label ==0).T[0]][2].reshape(28,28))\n",
    "plt.show()\n",
    "print(\"True Label:\",truec[2])"
   ]
  },
  {
   "cell_type": "code",
   "execution_count": 523,
   "metadata": {
    "collapsed": false
   },
   "outputs": [
    {
     "data": {
      "image/png": "[encoded data removed]",
      "text/plain": [
       "<matplotlib.figure.Figure at 0x23200448160>"
      ]
     },
     "metadata": {},
     "output_type": "display_data"
    },
    {
     "name": "stdout",
     "output_type": "stream",
     "text": [
      "True Label: [17]\n"
     ]
    }
   ],
   "source": [
    "plt.imshow(plet_v[(p-let_v_label ==0).T[0]][3].reshape(28,28))\n",
    "plt.show()\n",
    "print(\"True Label:\",truec[3])"
   ]
  },
  {
   "cell_type": "code",
   "execution_count": 524,
   "metadata": {
    "collapsed": false
   },
   "outputs": [
    {
     "data": {
      "image/png": "[encoded data removed]",
      "text/plain": [
       "<matplotlib.figure.Figure at 0x232002eadd8>"
      ]
     },
     "metadata": {},
     "output_type": "display_data"
    },
    {
     "name": "stdout",
     "output_type": "stream",
     "text": [
      "True Label: [24]\n"
     ]
    }
   ],
   "source": [
    "plt.imshow(plet_v[(p-let_v_label ==0).T[0]][4].reshape(28,28))\n",
    "plt.show()\n",
    "print(\"True Label:\",truec[4])"
   ]
  },
  {
   "cell_type": "code",
   "execution_count": 525,
   "metadata": {
    "collapsed": false
   },
   "outputs": [
    {
     "data": {
      "image/png": "[encoded data removed]",
      "text/plain": [
       "<matplotlib.figure.Figure at 0x2322335f780>"
      ]
     },
     "metadata": {},
     "output_type": "display_data"
    },
    {
     "name": "stdout",
     "output_type": "stream",
     "text": [
      "Predicted Label: [8]\n",
      "True Label: [1]\n"
     ]
    }
   ],
   "source": [
    "plt.imshow(plet_v[(p-let_v_label !=0).T[0]][0].reshape(28,28))\n",
    "plt.show()\n",
    "print(\"Predicted Label:\",predicted[0])\n",
    "print(\"True Label:\",true[0])"
   ]
  },
  {
   "cell_type": "code",
   "execution_count": 526,
   "metadata": {
    "collapsed": false
   },
   "outputs": [
    {
     "data": {
      "image/png": "[encoded data removed]",
      "text/plain": [
       "<matplotlib.figure.Figure at 0x232002f7438>"
      ]
     },
     "metadata": {},
     "output_type": "display_data"
    },
    {
     "name": "stdout",
     "output_type": "stream",
     "text": [
      "Predicted Label: [25]\n",
      "True Label: [20]\n"
     ]
    }
   ],
   "source": [
    "plt.imshow(plet_v[(p-let_v_label !=0).T[0]][1].reshape(28,28))\n",
    "plt.show()\n",
    "print(\"Predicted Label:\",predicted[1])\n",
    "print(\"True Label:\",true[1])"
   ]
  },
  {
   "cell_type": "code",
   "execution_count": 527,
   "metadata": {
    "collapsed": false
   },
   "outputs": [
    {
     "data": {
      "image/png": "[encoded data removed]",
      "text/plain": [
       "<matplotlib.figure.Figure at 0x232049d1390>"
      ]
     },
     "metadata": {},
     "output_type": "display_data"
    },
    {
     "name": "stdout",
     "output_type": "stream",
     "text": [
      "Predicted Label: [8]\n",
      "True Label: [11]\n"
     ]
    }
   ],
   "source": [
    "plt.imshow(plet_v[(p-let_v_label !=0).T[0]][2].reshape(28,28))\n",
    "plt.show()\n",
    "print(\"Predicted Label:\",predicted[2])\n",
    "print(\"True Label:\",true[2])"
   ]
  },
  {
   "cell_type": "code",
   "execution_count": 528,
   "metadata": {
    "collapsed": false
   },
   "outputs": [
    {
     "data": {
      "image/png": "[encoded data removed]",
      "text/plain": [
       "<matplotlib.figure.Figure at 0x232002f7860>"
      ]
     },
     "metadata": {},
     "output_type": "display_data"
    },
    {
     "name": "stdout",
     "output_type": "stream",
     "text": [
      "Predicted Label: [8]\n",
      "True Label: [2]\n"
     ]
    }
   ],
   "source": [
    "plt.imshow(plet_v[(p-let_v_label !=0).T[0]][3].reshape(28,28))\n",
    "plt.show()\n",
    "print(\"Predicted Label:\",predicted[3])\n",
    "print(\"True Label:\",true[3])"
   ]
  },
  {
   "cell_type": "code",
   "execution_count": 529,
   "metadata": {
    "collapsed": false
   },
   "outputs": [
    {
     "data": {
      "image/png": "[encoded data removed]",
      "text/plain": [
       "<matplotlib.figure.Figure at 0x23204e409e8>"
      ]
     },
     "metadata": {},
     "output_type": "display_data"
    },
    {
     "name": "stdout",
     "output_type": "stream",
     "text": [
      "Predicted Label: [6]\n",
      "True Label: [7]\n"
     ]
    }
   ],
   "source": [
    "plt.imshow(plet_v[(p-let_v_label !=0).T[0]][4].reshape(28,28))\n",
    "plt.show()\n",
    "print(\"Predicted Label:\",predicted[4])\n",
    "print(\"True Label:\",true[4])"
   ]
  },
  {
   "cell_type": "code",
   "execution_count": 499,
   "metadata": {
    "collapsed": false
   },
   "outputs": [],
   "source": [
    "nnetf = NNet(h_units=200,gaus=True) "
   ]
  },
  {
   "cell_type": "code",
   "execution_count": 500,
   "metadata": {
    "collapsed": false
   },
   "outputs": [
    {
     "name": "stdout",
     "output_type": "stream",
     "text": [
      "1310.8310251235962\n"
     ]
    }
   ],
   "source": [
    "t0 = time.time()\n",
    "nnetf.train(plet,letters['train_y'],20,0.05,0.05,batch_size = 16,\n",
    "            tanh=True,sigmoid=True,dropout=False,cool=True,plot=True)\n",
    "t1 = time.time()\n",
    "print(t1-t0)"
   ]
  },
  {
   "cell_type": "code",
   "execution_count": 501,
   "metadata": {
    "collapsed": false
   },
   "outputs": [],
   "source": [
    "def output(self,path,data,zindex=0):\n",
    "        np.savetxt(\n",
    "        path, np.column_stack(\n",
    "        (np.array(\n",
    "            list(zindex+np.arange(data.shape[0]))),self.predict(\n",
    "            data))).astype(int), \n",
    "        fmt =\"%i\",delimiter = \",\", \n",
    "        header = \"Id,Category\",comments = \"\")"
   ]
  },
  {
   "cell_type": "code",
   "execution_count": 502,
   "metadata": {
    "collapsed": false
   },
   "outputs": [],
   "source": [
    "output(nnetf,\"letkaggle.csv\",plet_f,1)"
   ]
  },
  {
   "cell_type": "markdown",
   "metadata": {
    "collapsed": false
   },
   "source": [
    "![letter](letterkaggle.PNG)"
   ]
  },
  {
   "cell_type": "code",
   "execution_count": 6,
   "metadata": {
    "collapsed": false
   },
   "outputs": [],
   "source": []
  },
  {
   "cell_type": "code",
   "execution_count": 7,
   "metadata": {
    "collapsed": false
   },
   "outputs": [
    {
     "data": {
      "text/plain": [
       "array([[0, 0, 0, ..., 0, 0, 0],\n",
       "       [0, 0, 0, ..., 0, 0, 0],\n",
       "       [0, 0, 0, ..., 0, 0, 0],\n",
       "       ..., \n",
       "       [0, 0, 0, ..., 0, 0, 0],\n",
       "       [0, 0, 0, ..., 0, 0, 0],\n",
       "       [0, 0, 0, ..., 0, 0, 0]], dtype=uint8)"
      ]
     },
     "execution_count": 7,
     "metadata": {},
     "output_type": "execute_result"
    }
   ],
   "source": [
    "let_t"
   ]
  },
  {
   "cell_type": "code",
   "execution_count": 8,
   "metadata": {
    "collapsed": false
   },
   "outputs": [
    {
     "data": {
      "text/plain": [
       "array([[26],\n",
       "       [19],\n",
       "       [17],\n",
       "       ..., \n",
       "       [22],\n",
       "       [ 1],\n",
       "       [ 3]], dtype=uint8)"
      ]
     },
     "execution_count": 8,
     "metadata": {},
     "output_type": "execute_result"
    }
   ],
   "source": [
    "let_t_label"
   ]
  },
  {
   "cell_type": "code",
   "execution_count": 9,
   "metadata": {
    "collapsed": true
   },
   "outputs": [],
   "source": []
  },
  {
   "cell_type": "code",
   "execution_count": 10,
   "metadata": {
    "collapsed": false
   },
   "outputs": [],
   "source": []
  },
  {
   "cell_type": "code",
   "execution_count": 472,
   "metadata": {
    "collapsed": false
   },
   "outputs": [],
   "source": [
    "nnet1 = NNet(h_units=200,gaus=True) "
   ]
  },
  {
   "cell_type": "code",
   "execution_count": 473,
   "metadata": {
    "collapsed": false
   },
   "outputs": [
    {
     "name": "stdout",
     "output_type": "stream",
     "text": [
      "631.203414440155\n"
     ]
    }
   ],
   "source": [
    "t0 = time.time()\n",
    "nnet1.train(plet_t,let_t_label,20,0.05,0.05,batch_size = 16,\n",
    "            tanh=True,sigmoid=True,cool=True)\n",
    "t1 = time.time()\n",
    "print(t1-t0)"
   ]
  },
  {
   "cell_type": "code",
   "execution_count": 474,
   "metadata": {
    "collapsed": false
   },
   "outputs": [
    {
     "data": {
      "text/plain": [
       "0.8642227564102565"
      ]
     },
     "execution_count": 474,
     "metadata": {},
     "output_type": "execute_result"
    }
   ],
   "source": [
    "nnet1.score(plet_v,let_v_label,tanh=True,sigmoid=True)"
   ]
  },
  {
   "cell_type": "code",
   "execution_count": 475,
   "metadata": {
    "collapsed": false
   },
   "outputs": [
    {
     "data": {
      "text/plain": [
       "0.8845252403846153"
      ]
     },
     "execution_count": 475,
     "metadata": {},
     "output_type": "execute_result"
    }
   ],
   "source": [
    "nnet1.score(plet_t,let_t_label,tanh=True,sigmoid=True)"
   ]
  },
  {
   "cell_type": "code",
   "execution_count": 2172,
   "metadata": {
    "collapsed": true
   },
   "outputs": [],
   "source": [
    "nnet2 = NNet(h_units=200)"
   ]
  },
  {
   "cell_type": "code",
   "execution_count": 2173,
   "metadata": {
    "collapsed": false
   },
   "outputs": [
    {
     "name": "stdout",
     "output_type": "stream",
     "text": [
      "1497.3162744045258\n"
     ]
    }
   ],
   "source": [
    "t0 = time.time()\n",
    "nnet2.train(plet_t,let_t_label,5,0.0075,0.0075,batch_size = 5,\n",
    "            tanh=True,sigmoid=True,dropout=True)\n",
    "t1 = time.time()\n",
    "print(t1-t0)"
   ]
  },
  {
   "cell_type": "code",
   "execution_count": 2174,
   "metadata": {
    "collapsed": false
   },
   "outputs": [
    {
     "data": {
      "text/plain": [
       "0.7785657051282051"
      ]
     },
     "execution_count": 2174,
     "metadata": {},
     "output_type": "execute_result"
    }
   ],
   "source": [
    "nnet2.score(plet_v,let_v_label,tanh=True,sigmoid=True,dropout=True)"
   ]
  },
  {
   "cell_type": "code",
   "execution_count": 347,
   "metadata": {
    "collapsed": true
   },
   "outputs": [],
   "source": [
    "nnet3 = NNet(h_units=200)"
   ]
  },
  {
   "cell_type": "code",
   "execution_count": 348,
   "metadata": {
    "collapsed": false
   },
   "outputs": [
    {
     "name": "stdout",
     "output_type": "stream",
     "text": [
      "402.39103627204895\n"
     ]
    }
   ],
   "source": [
    "t0 = time.time()\n",
    "nnet3.train(plet_t,let_t_label,15,0.045,0.045,batch_size = 16,\n",
    "            tanh=True,sigmoid=False,dropout=False)\n",
    "t1 = time.time()\n",
    "print(t1-t0)"
   ]
  },
  {
   "cell_type": "code",
   "execution_count": 349,
   "metadata": {
    "collapsed": false
   },
   "outputs": [
    {
     "data": {
      "text/plain": [
       "0.8280448717948719"
      ]
     },
     "execution_count": 349,
     "metadata": {},
     "output_type": "execute_result"
    }
   ],
   "source": [
    "nnet3.score(plet_v,let_v_label,tanh=True,sigmoid=False,dropout=False)"
   ]
  },
  {
   "cell_type": "code",
   "execution_count": 114,
   "metadata": {
    "collapsed": true
   },
   "outputs": [],
   "source": [
    "nnet4 = NNet(h_units=200)"
   ]
  },
  {
   "cell_type": "code",
   "execution_count": 115,
   "metadata": {
    "collapsed": false
   },
   "outputs": [
    {
     "name": "stdout",
     "output_type": "stream",
     "text": [
      "479.98267221450806\n"
     ]
    }
   ],
   "source": [
    "t0 = time.time()\n",
    "nnet4.train(plet_t,let_t_label,15,0.02,0.02,batch_size = 4,\n",
    "            tanh=True,sigmoid=False,dropout=True)\n",
    "t1 = time.time()\n",
    "print(t1-t0)"
   ]
  },
  {
   "cell_type": "code",
   "execution_count": 116,
   "metadata": {
    "collapsed": false
   },
   "outputs": [
    {
     "data": {
      "text/plain": [
       "0.8516826923076923"
      ]
     },
     "execution_count": 116,
     "metadata": {},
     "output_type": "execute_result"
    }
   ],
   "source": [
    "nnet4.score(plet_v,let_v_label,tanh=True,sigmoid=False,dropout=True)"
   ]
  },
  {
   "cell_type": "code",
   "execution_count": 482,
   "metadata": {
    "collapsed": false
   },
   "outputs": [],
   "source": [
    "nnet5 = NNet(h_units=200,gaus=True)"
   ]
  },
  {
   "cell_type": "code",
   "execution_count": 483,
   "metadata": {
    "collapsed": false
   },
   "outputs": [
    {
     "name": "stdout",
     "output_type": "stream",
     "text": [
      "744.196450471878\n"
     ]
    }
   ],
   "source": [
    "t0 = time.time()\n",
    "nnet5.train(plet_t,let_t_label,15,0.05,0.05,batch_size = 20,\n",
    "            tanh=False,sigmoid=False,dropout=False,cool=True,plot=True)\n",
    "t1 = time.time()\n",
    "print(t1-t0)"
   ]
  },
  {
   "cell_type": "code",
   "execution_count": 484,
   "metadata": {
    "collapsed": false
   },
   "outputs": [
    {
     "data": {
      "text/plain": [
       "0.7582932692307692"
      ]
     },
     "execution_count": 484,
     "metadata": {},
     "output_type": "execute_result"
    }
   ],
   "source": [
    "nnet5.score(plet_v,let_v_label,tanh=False,sigmoid=False,dropout=False)"
   ]
  },
  {
   "cell_type": "code",
   "execution_count": 485,
   "metadata": {
    "collapsed": false
   },
   "outputs": [
    {
     "data": {
      "image/png": "[encoded data removed]",
      "text/plain": [
       "<matplotlib.figure.Figure at 0x2320546e400>"
      ]
     },
     "metadata": {},
     "output_type": "display_data"
    }
   ],
   "source": [
    "plt.plot(np.arange(len(nnet5.losspt)),nnet5.losspt)\n",
    "plt.title('Problem 2')\n",
    "plt.ylabel(\"Loss\")\n",
    "plt.xlabel(\"Number of iterations\")\n",
    "plt.show()"
   ]
  },
  {
   "cell_type": "code",
   "execution_count": null,
   "metadata": {
    "collapsed": true
   },
   "outputs": [],
   "source": []
  },
  {
   "cell_type": "code",
   "execution_count": null,
   "metadata": {
    "collapsed": true
   },
   "outputs": [],
   "source": []
  },
  {
   "cell_type": "code",
   "execution_count": null,
   "metadata": {
    "collapsed": true
   },
   "outputs": [],
   "source": []
  }
 ],
 "metadata": {
  "kernelspec": {
   "display_name": "Python 3",
   "language": "python",
   "name": "python3"
  },
  "language_info": {
   "codemirror_mode": {
    "name": "ipython",
    "version": 3
   },
   "file_extension": ".py",
   "mimetype": "text/x-python",
   "name": "python",
   "nbconvert_exporter": "python",
   "pygments_lexer": "ipython3",
   "version": "3.6.0"
  }
 },
 "nbformat": 4,
 "nbformat_minor": 2
}
