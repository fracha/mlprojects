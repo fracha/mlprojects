{
 "cells": [
  {
   "cell_type": "code",
   "execution_count": 1,
   "metadata": {
    "collapsed": false
   },
   "outputs": [],
   "source": [
    "import matplotlib\n",
    "import numpy as np\n",
    "import matplotlib.cm as cm\n",
    "import matplotlib.mlab as mlab\n",
    "import matplotlib.pyplot as plt\n",
    "\n",
    "import scipy,sklearn,pylab\n",
    "from scipy import io\n",
    "\n",
    "from sklearn import model_selection,covariance\n",
    "from sklearn.model_selection import train_test_split,KFold\n",
    "\n",
    "matplotlib.rcParams['xtick.direction'] = 'out'\n",
    "matplotlib.rcParams['ytick.direction'] = 'out'\n",
    "matplotlib.rcParams['figure.figsize'] = (9,8)\n"
   ]
  },
  {
   "cell_type": "code",
   "execution_count": 2,
   "metadata": {
    "collapsed": false
   },
   "outputs": [],
   "source": [
    "X = np.matrix([[0,3,1],[1,3,1],[0,1,1],[1,1,1]])\n",
    "y = np.matrix([[1],[1],[0],[0]])\n",
    "w0 = np.matrix([[-2],[1],[0]])\n",
    "w0b=w0\n",
    "l=0.07"
   ]
  },
  {
   "cell_type": "code",
   "execution_count": 3,
   "metadata": {
    "collapsed": false
   },
   "outputs": [
    {
     "data": {
      "text/plain": [
       "matrix([[ 0.95257413],\n",
       "        [ 0.73105858],\n",
       "        [ 0.73105858],\n",
       "        [ 0.26894142]])"
      ]
     },
     "execution_count": 3,
     "metadata": {},
     "output_type": "execute_result"
    }
   ],
   "source": [
    "s0 = scipy.special.expit(X.dot(w0))\n",
    "s0"
   ]
  },
  {
   "cell_type": "code",
   "execution_count": 4,
   "metadata": {
    "collapsed": false
   },
   "outputs": [
    {
     "data": {
      "text/plain": [
       "matrix([[ 0.95257413],\n",
       "        [ 0.73105858],\n",
       "        [ 0.73105858],\n",
       "        [ 0.26894142]])"
      ]
     },
     "execution_count": 4,
     "metadata": {},
     "output_type": "execute_result"
    }
   ],
   "source": [
    "s0b = scipy.special.expit(X.dot(w0))\n",
    "s0b"
   ]
  },
  {
   "cell_type": "code",
   "execution_count": 5,
   "metadata": {
    "collapsed": false
   },
   "outputs": [
    {
     "data": {
      "text/plain": [
       "matrix([[ 0.06867758],\n",
       "        [ 2.10887732],\n",
       "        [-4.31088359]])"
      ]
     },
     "execution_count": 5,
     "metadata": {},
     "output_type": "execute_result"
    }
   ],
   "source": [
    "S0 = np.diagflat(s0[:,0])\n",
    "w1=w0-((2*l*np.diag((1,1,0))+ \\\n",
    "        (X.T).dot(S0).dot(np.identity(4)-S0).dot(X)).I).dot(\n",
    "    2*l*np.diag((1,1,0)).dot(w0)-(X.T).dot(y-s0))\n",
    "w1"
   ]
  },
  {
   "cell_type": "code",
   "execution_count": 6,
   "metadata": {
    "collapsed": false
   },
   "outputs": [
    {
     "data": {
      "text/plain": [
       "matrix([[-0.38676399],\n",
       "        [ 1.40431761],\n",
       "        [-2.28417115]])"
      ]
     },
     "execution_count": 6,
     "metadata": {},
     "output_type": "execute_result"
    }
   ],
   "source": [
    "S0b = np.diagflat(s0b[:,0])\n",
    "w1b=w0b-((2*l*np.diag((1,1,1))+ \\\n",
    "        (X.T).dot(S0b).dot(np.identity(4)-S0b).dot(X)).I).dot(\n",
    "    2*l*np.diag((1,1,1)).dot(w0b)-(X.T).dot(y-s0b))\n",
    "w1b"
   ]
  },
  {
   "cell_type": "code",
   "execution_count": 7,
   "metadata": {
    "collapsed": false
   },
   "outputs": [
    {
     "data": {
      "text/plain": [
       "matrix([[ 0.88244067],\n",
       "        [ 0.88938022],\n",
       "        [ 0.09957047],\n",
       "        [ 0.1058994 ]])"
      ]
     },
     "execution_count": 7,
     "metadata": {},
     "output_type": "execute_result"
    }
   ],
   "source": [
    "s1 = scipy.special.expit(X.dot(w1))\n",
    "s1"
   ]
  },
  {
   "cell_type": "code",
   "execution_count": 8,
   "metadata": {
    "collapsed": false
   },
   "outputs": [
    {
     "data": {
      "text/plain": [
       "matrix([[ 0.87311451],\n",
       "        [ 0.82375785],\n",
       "        [ 0.29320813],\n",
       "        [ 0.21983683]])"
      ]
     },
     "execution_count": 8,
     "metadata": {},
     "output_type": "execute_result"
    }
   ],
   "source": [
    "s1b = scipy.special.expit(X.dot(w1b))\n",
    "s1b"
   ]
  },
  {
   "cell_type": "code",
   "execution_count": 9,
   "metadata": {
    "collapsed": false
   },
   "outputs": [
    {
     "data": {
      "text/plain": [
       "matrix([[ 0.00575777],\n",
       "        [ 2.36957624],\n",
       "        [-4.75408128]])"
      ]
     },
     "execution_count": 9,
     "metadata": {},
     "output_type": "execute_result"
    }
   ],
   "source": [
    "S1 = np.diagflat(s1[:,0])\n",
    "w2=w1-((2*l*np.diag([1,1,0])+ \\\n",
    "        (X.T).dot(S1).dot(np.identity(4)-S1).dot(X)).I).dot(\n",
    "    2*l*np.diag((1,1,0)).dot(w1)-(X.T).dot(y-s1))\n",
    "w2\n"
   ]
  },
  {
   "cell_type": "code",
   "execution_count": 10,
   "metadata": {
    "collapsed": false
   },
   "outputs": [
    {
     "data": {
      "text/plain": [
       "matrix([[-0.51222668],\n",
       "        [ 1.45272677],\n",
       "        [-2.16271799]])"
      ]
     },
     "execution_count": 10,
     "metadata": {},
     "output_type": "execute_result"
    }
   ],
   "source": [
    "S1b = np.diagflat(s1b[:,0])\n",
    "w2b=w1b-((2*l*np.diag([1,1,1])+ \\\n",
    "        (X.T).dot(S1b).dot(np.identity(4)-S1b).dot(X)).I).dot(\n",
    "    2*l*np.diag((1,1,1)).dot(w1b)-(X.T).dot(y-s1b))\n",
    "w2b\n"
   ]
  },
  {
   "cell_type": "code",
   "execution_count": 11,
   "metadata": {
    "collapsed": false
   },
   "outputs": [],
   "source": [
    "wine = scipy.io.loadmat(\"hw4_wine_dist/data\")\n"
   ]
  },
  {
   "cell_type": "code",
   "execution_count": 12,
   "metadata": {
    "collapsed": false
   },
   "outputs": [],
   "source": [
    "class g_descent(object):\n",
    "    def __init__(self,data,train,reg,eps,stoch=False,prec = 1e-15):\n",
    "        self.stoch=stoch\n",
    "        self.reg = reg\n",
    "        self.eps=eps\n",
    "        self.n=data.shape[0]\n",
    "        self.w = np.zeros((data.shape[1]+1,1))\n",
    "        self.data=np.concatenate((data, np.ones((data.shape[0],1))),axis = 1)\n",
    "        self.train=train\n",
    "        self.fulltrain = np.concatenate((self.data,self.train),axis=1)\n",
    "        self.done = False\n",
    "        self.prec=prec\n",
    "        self.i=1\n",
    "    def s(self,x):\n",
    "        return scipy.special.expit(x)\n",
    "    def loss_sum(self,row):\n",
    "        return ((row[-1]*np.log(self.s(np.dot(row[:-1],self.w))) + \n",
    "                np.log(1-self.s(np.dot(row[:-1],self.w)))*(1-row[-1])))\n",
    "    def mdf(self,w):\n",
    "        return ((1/self.n)*np.dot(self.data.T,self.train-self.s(np.dot(self.data,w))) - \n",
    "                2*self.reg*np.concatenate((w[0:-1],[[0]])))\n",
    "    def mdfrow(self,w, row):\n",
    "        #print(row)\n",
    "        return (np.dot(row[:,:-1].T,row[:,-1:]-self.s(np.dot(row[:,:-1],w))) - \n",
    "                2*self.reg*np.concatenate((w[0:-1],[[0]])))\n",
    "    def loss(self):\n",
    "        #print(self.fulltrain)\n",
    "        return ((-1/self.n)*np.apply_along_axis(self.loss_sum,1,self.fulltrain).sum() + \n",
    "                self.reg*np.linalg.norm(np.concatenate((self.w[0:-1],[[0]]))**2))\n",
    "    def update(self):\n",
    "        if self.stoch==True:\n",
    "            #print(self.fulltrain[self.i%self.n,:])\n",
    "            inc = self.mdfrow(\n",
    "                self.w,self.fulltrain[np.random.choice(self.n),np.newaxis])*self.eps\n",
    "            #inc = self.mdfrow(self.w,self.fulltrain[self.i%self.n,np.newaxis])\n",
    "            #print(self.i)\n",
    "            #print(self.n)\n",
    "            #if self.i%self.n==0:\n",
    "            #    np.random.shuffle(self.fulltrain)\n",
    "                #print(self.fulltrain)\n",
    "        else:\n",
    "            inc = self.mdf(self.w)*self.eps \n",
    "        #print(inc)\n",
    "        if np.linalg.norm(inc)<=self.prec:\n",
    "            self.done=True\n",
    "        self.w=self.w+self.eps*inc\n",
    "    def predictrow(self,row):\n",
    "        return 0 if self.s(np.dot(row,self.w))[0]<0.5 else 1\n",
    "    def predict(self,v):\n",
    "        return np.apply_along_axis(self.predictrow,1,np.concatenate(\n",
    "            (v,np.ones((v.shape[0],1))),axis=1)).reshape(v.shape[0],1)\n",
    "    def score(self,v,lab):\n",
    "        return np.count_nonzero(lab-self.predict(v))/lab.shape[0]\n",
    "    def updatep(self):\n",
    "        if(self. i !=1):\n",
    "            self.eps= self.eps*(self.i)/(self.i+1)\n",
    "        self.i +=1\n",
    "        self.update()\n",
    "    "
   ]
  },
  {
   "cell_type": "code",
   "execution_count": 13,
   "metadata": {
    "collapsed": false
   },
   "outputs": [],
   "source": [
    "grad1 = g_descent(sklearn.preprocessing.scale(\n",
    "    wine['X']),wine['y'],0.5,0.5,stoch=False)"
   ]
  },
  {
   "cell_type": "code",
   "execution_count": 14,
   "metadata": {
    "collapsed": false
   },
   "outputs": [],
   "source": [
    "i=0\n",
    "threshold = 50\n",
    "losses1 = []\n",
    "while(i<threshold*1000 and grad1.done==False):  \n",
    "    if i%10==0:\n",
    "        #print(i/100,grad1.loss())\n",
    "        losses1.insert(int(i/10),grad1.loss())\n",
    "    grad1.update()\n",
    "    i+=1"
   ]
  },
  {
   "cell_type": "code",
   "execution_count": 15,
   "metadata": {
    "collapsed": false
   },
   "outputs": [
    {
     "data": {
      "image/png": "[encoded data removed]",
      "text/plain": [
       "<matplotlib.figure.Figure at 0xa06f978>"
      ]
     },
     "metadata": {},
     "output_type": "display_data"
    }
   ],
   "source": [
    "plt.plot(range(min(threshold*100,int(i/10)+1)),losses1)\n",
    "plt.title('Problem 6.1')\n",
    "plt.ylabel(\"Loss\")\n",
    "plt.xlabel(\"Number of Iterations (tens)\") #so ~800 total\n",
    "plt.show()"
   ]
  },
  {
   "cell_type": "code",
   "execution_count": 16,
   "metadata": {
    "collapsed": true
   },
   "outputs": [],
   "source": [
    "stoch1 = g_descent(sklearn.preprocessing.scale(\n",
    "    wine['X']),wine['y'],0.5,0.5,stoch=True)"
   ]
  },
  {
   "cell_type": "code",
   "execution_count": 17,
   "metadata": {
    "collapsed": false
   },
   "outputs": [],
   "source": [
    "j=0\n",
    "losses2 = []\n",
    "while(j<threshold*500 and  stoch1.done==False):\n",
    "    if j%100==0:\n",
    "        #print(j/100,stoch1.loss())\n",
    "        losses2.insert(int(j/100),stoch1.loss())\n",
    "    stoch1.update()\n",
    "    j+=1"
   ]
  },
  {
   "cell_type": "code",
   "execution_count": 18,
   "metadata": {
    "collapsed": false
   },
   "outputs": [
    {
     "data": {
      "image/png": "[encoded data removed]",
      "text/plain": [
       "<matplotlib.figure.Figure at 0xa1e8828>"
      ]
     },
     "metadata": {},
     "output_type": "display_data"
    }
   ],
   "source": [
    "plt.plot(range(min(threshold*5,int(j/100)+1)),losses2)\n",
    "plt.title('Problem 6.2')\n",
    "plt.ylabel(\"Loss\")\n",
    "plt.xlabel(\"Number of Iterations (hundreds)\")\n",
    "plt.show()"
   ]
  },
  {
   "cell_type": "code",
   "execution_count": 19,
   "metadata": {
    "collapsed": true
   },
   "outputs": [],
   "source": [
    "stochp1 = g_descent(sklearn.preprocessing.scale(\n",
    "    wine['X']),wine['y'],0.5,0.5,stoch=True) "
   ]
  },
  {
   "cell_type": "code",
   "execution_count": 20,
   "metadata": {
    "collapsed": false
   },
   "outputs": [],
   "source": [
    "k=0\n",
    "losses3 = []\n",
    "while(k<threshold*100 and  stochp1.done==False):\n",
    "    if k%100==0:\n",
    "        #print(k,stochp1.loss())\n",
    "        losses3.insert(int(k/100),stochp1.loss())\n",
    "    stochp1.updatep()\n",
    "    k+=1\n"
   ]
  },
  {
   "cell_type": "code",
   "execution_count": 21,
   "metadata": {
    "collapsed": false
   },
   "outputs": [
    {
     "data": {
      "image/png": "[encoded data removed]",
      "text/plain": [
       "<matplotlib.figure.Figure at 0xa249400>"
      ]
     },
     "metadata": {},
     "output_type": "display_data"
    }
   ],
   "source": [
    "plt.plot(range(min(threshold,int(k/100)+1)),losses3)\n",
    "plt.title('Problem 6.3')\n",
    "plt.ylabel(\"Loss\")\n",
    "plt.xlabel(\"Number of Iterations (hundreds)\")\n",
    "plt.show()"
   ]
  },
  {
   "cell_type": "code",
   "execution_count": 22,
   "metadata": {
    "collapsed": false
   },
   "outputs": [],
   "source": [
    "wine_train, wine_v, wine_train_label,wine_v_label=train_test_split(\n",
    "    wine['X'],wine['y'],test_size=0.99)"
   ]
  },
  {
   "cell_type": "code",
   "execution_count": 23,
   "metadata": {
    "collapsed": false
   },
   "outputs": [],
   "source": [
    "#t = 100\n",
    "#for lam in [0,1/6000,0.01,0.05,0.1,0.25,0.5,0.75,1,1.5,2,5,10,15]:\n",
    "#    for ep in [0.025,0.05]:\n",
    "#        test = g_descent(wine_train,wine_train_label,lam,ep)\n",
    "#        i=0\n",
    "#        while(test.done==False and int(i/1000)<t):\n",
    "#            test.update()\n",
    "#            i+=1\n",
    "#        i=0\n",
    "#        print(lam,ep,test.score(wine_v,wine_v_label))\n",
    "i=0\n",
    "test = g_descent(sklearn.preprocessing.scale(\n",
    "    wine_train),wine_train_label,1/6000,5)\n",
    "while(test.done==False and i<100000):\n",
    "    #if(i%1000==0):\n",
    "#        print(test.loss())\n",
    "    test.update()\n",
    "    i+=1"
   ]
  },
  {
   "cell_type": "code",
   "execution_count": 24,
   "metadata": {
    "collapsed": false
   },
   "outputs": [
    {
     "data": {
      "text/plain": [
       "0.020033670033670032"
      ]
     },
     "execution_count": 24,
     "metadata": {},
     "output_type": "execute_result"
    }
   ],
   "source": [
    "test.score(sklearn.preprocessing.scale(wine_v),wine_v_label)"
   ]
  },
  {
   "cell_type": "code",
   "execution_count": 25,
   "metadata": {
    "collapsed": false
   },
   "outputs": [],
   "source": [
    "def output(train, train_labels, test):\n",
    "    grad = g_descent(sklearn.preprocessing.scale(\n",
    "        train),train_labels,1/6000,5)\n",
    "    i=1\n",
    "    while(grad.done==False):\n",
    "        grad.update()\n",
    "        #if i%1000==0:\n",
    "        #    print(grad.loss())\n",
    "        i+=1\n",
    "    out = grad.predict(sklearn.preprocessing.scale(test))\n",
    "    np.savetxt(\n",
    "        \"winekaggleout.csv\", np.column_stack(\n",
    "        (np.array(\n",
    "            list(range(test.shape[0]))),out)).astype(int), \n",
    "        fmt =\"%i\",delimiter = \",\", \n",
    "        header = \"Id,Category\",comments = \"\")"
   ]
  },
  {
   "cell_type": "code",
   "execution_count": 27,
   "metadata": {
    "collapsed": false
   },
   "outputs": [],
   "source": [
    "output(wine['X'],wine['y'],wine['X_test'])"
   ]
  },
  {
   "cell_type": "markdown",
   "metadata": {
    "collapsed": true
   },
   "source": [
    "![wine](winekaggle.PNG)"
   ]
  },
  {
   "cell_type": "code",
   "execution_count": null,
   "metadata": {
    "collapsed": true
   },
   "outputs": [],
   "source": [
    "\n",
    "# coding: utf-8\n",
    "\n",
    "# In[1]:\n",
    "\n",
    "import matplotlib\n",
    "import numpy as np\n",
    "import matplotlib.cm as cm\n",
    "import matplotlib.mlab as mlab\n",
    "import matplotlib.pyplot as plt\n",
    "\n",
    "import scipy,sklearn,pylab\n",
    "from scipy import io\n",
    "\n",
    "from sklearn import model_selection,covariance\n",
    "from sklearn.model_selection import train_test_split,KFold\n",
    "\n",
    "matplotlib.rcParams['xtick.direction'] = 'out'\n",
    "matplotlib.rcParams['ytick.direction'] = 'out'\n",
    "matplotlib.rcParams['figure.figsize'] = (9,8)\n",
    "\n",
    "\n",
    "# In[2]:\n",
    "\n",
    "X = np.matrix([[0,3,1],[1,3,1],[0,1,1],[1,1,1]])\n",
    "y = np.matrix([[1],[1],[0],[0]])\n",
    "w0 = np.matrix([[-2],[1],[0]])\n",
    "w0b=w0\n",
    "l=0.07\n",
    "\n",
    "\n",
    "# In[3]:\n",
    "\n",
    "s0 = scipy.special.expit(X.dot(w0))\n",
    "s0\n",
    "\n",
    "\n",
    "# In[4]:\n",
    "\n",
    "s0b = scipy.special.expit(X.dot(w0))\n",
    "s0b\n",
    "\n",
    "\n",
    "# In[5]:\n",
    "\n",
    "S0 = np.diagflat(s0[:,0])\n",
    "w1=w0-((2*l*np.diag((1,1,0))+         (X.T).dot(S0).dot(np.identity(4)-S0).dot(X)).I).dot(\n",
    "    2*l*np.diag((1,1,0)).dot(w0)-(X.T).dot(y-s0))\n",
    "w1\n",
    "\n",
    "\n",
    "# In[6]:\n",
    "\n",
    "S0b = np.diagflat(s0b[:,0])\n",
    "w1b=w0b-((2*l*np.diag((1,1,1))+         (X.T).dot(S0b).dot(np.identity(4)-S0b).dot(X)).I).dot(\n",
    "    2*l*np.diag((1,1,1)).dot(w0b)-(X.T).dot(y-s0b))\n",
    "w1b\n",
    "\n",
    "\n",
    "# In[7]:\n",
    "\n",
    "s1 = scipy.special.expit(X.dot(w1))\n",
    "s1\n",
    "\n",
    "\n",
    "# In[8]:\n",
    "\n",
    "s1b = scipy.special.expit(X.dot(w1b))\n",
    "s1b\n",
    "\n",
    "\n",
    "# In[9]:\n",
    "\n",
    "S1 = np.diagflat(s1[:,0])\n",
    "w2=w1-((2*l*np.diag([1,1,0])+         (X.T).dot(S1).dot(np.identity(4)-S1).dot(X)).I).dot(\n",
    "    2*l*np.diag((1,1,0)).dot(w1)-(X.T).dot(y-s1))\n",
    "w2\n",
    "\n",
    "\n",
    "# In[10]:\n",
    "\n",
    "S1b = np.diagflat(s1b[:,0])\n",
    "w2b=w1b-((2*l*np.diag([1,1,1])+         (X.T).dot(S1b).dot(np.identity(4)-S1b).dot(X)).I).dot(\n",
    "    2*l*np.diag((1,1,1)).dot(w1b)-(X.T).dot(y-s1b))\n",
    "w2b\n",
    "\n",
    "\n",
    "# In[11]:\n",
    "\n",
    "wine = scipy.io.loadmat(\"hw4_wine_dist/data\")\n",
    "\n",
    "\n",
    "# In[12]:\n",
    "\n",
    "class g_descent(object):\n",
    "    def __init__(self,data,train,reg,eps,stoch=False,prec = 1e-15):\n",
    "        self.stoch=stoch\n",
    "        self.reg = reg\n",
    "        self.eps=eps\n",
    "        self.n=data.shape[0]\n",
    "        self.w = np.zeros((data.shape[1]+1,1))\n",
    "        self.data=np.concatenate((data, np.ones((data.shape[0],1))),axis = 1)\n",
    "        self.train=train\n",
    "        self.fulltrain = np.concatenate((self.data,self.train),axis=1)\n",
    "        self.done = False\n",
    "        self.prec=prec\n",
    "        self.i=1\n",
    "    def s(self,x):\n",
    "        return scipy.special.expit(x)\n",
    "    def loss_sum(self,row):\n",
    "        return ((row[-1]*np.log(self.s(np.dot(row[:-1],self.w))) + \n",
    "                np.log(1-self.s(np.dot(row[:-1],self.w)))*(1-row[-1])))\n",
    "    def mdf(self,w):\n",
    "        return ((1/self.n)*np.dot(self.data.T,self.train-self.s(np.dot(self.data,w))) - \n",
    "                2*self.reg*np.concatenate((w[0:-1],[[0]])))\n",
    "    def mdfrow(self,w, row):\n",
    "        #print(row)\n",
    "        return (np.dot(row[:,:-1].T,row[:,-1:]-self.s(np.dot(row[:,:-1],w))) - \n",
    "                2*self.reg*np.concatenate((w[0:-1],[[0]])))\n",
    "    def loss(self):\n",
    "        #print(self.fulltrain)\n",
    "        return ((-1/self.n)*np.apply_along_axis(self.loss_sum,1,self.fulltrain).sum() + \n",
    "                self.reg*np.linalg.norm(np.concatenate((self.w[0:-1],[[0]]))**2))\n",
    "    def update(self):\n",
    "        if self.stoch==True:\n",
    "            #print(self.fulltrain[self.i%self.n,:])\n",
    "            inc = self.mdfrow(\n",
    "                self.w,self.fulltrain[np.random.choice(self.n),np.newaxis])*self.eps\n",
    "            #inc = self.mdfrow(self.w,self.fulltrain[self.i%self.n,np.newaxis])\n",
    "            #print(self.i)\n",
    "            #print(self.n)\n",
    "            #if self.i%self.n==0:\n",
    "            #    np.random.shuffle(self.fulltrain)\n",
    "                #print(self.fulltrain)\n",
    "        else:\n",
    "            inc = self.mdf(self.w)*self.eps \n",
    "        #print(inc)\n",
    "        if np.linalg.norm(inc)<=self.prec:\n",
    "            self.done=True\n",
    "        self.w=self.w+self.eps*inc\n",
    "    def predictrow(self,row):\n",
    "        return 0 if self.s(np.dot(row,self.w))[0]<0.5 else 1\n",
    "    def predict(self,v):\n",
    "        return np.apply_along_axis(self.predictrow,1,np.concatenate(\n",
    "            (v,np.ones((v.shape[0],1))),axis=1)).reshape(v.shape[0],1)\n",
    "    def score(self,v,lab):\n",
    "        return np.count_nonzero(lab-self.predict(v))/lab.shape[0]\n",
    "    def updatep(self):\n",
    "        if(self. i !=1):\n",
    "            self.eps= self.eps*(self.i)/(self.i+1)\n",
    "        self.i +=1\n",
    "        self.update()\n",
    "    \n",
    "\n",
    "\n",
    "# In[13]:\n",
    "\n",
    "grad1 = g_descent(sklearn.preprocessing.scale(\n",
    "    wine['X']),wine['y'],0.5,0.5,stoch=False)\n",
    "\n",
    "\n",
    "# In[14]:\n",
    "\n",
    "i=0\n",
    "threshold = 50\n",
    "losses1 = []\n",
    "while(i<threshold*1000 and grad1.done==False):  \n",
    "    if i%10==0:\n",
    "        #print(i/100,grad1.loss())\n",
    "        losses1.insert(int(i/10),grad1.loss())\n",
    "    grad1.update()\n",
    "    i+=1\n",
    "\n",
    "\n",
    "# In[15]:\n",
    "\n",
    "plt.plot(range(min(threshold*100,int(i/10)+1)),losses1)\n",
    "plt.title('Problem 6.1')\n",
    "plt.ylabel(\"Loss\")\n",
    "plt.xlabel(\"Number of Iterations (tens)\") #so ~800 total\n",
    "plt.show()\n",
    "\n",
    "\n",
    "# In[16]:\n",
    "\n",
    "stoch1 = g_descent(sklearn.preprocessing.scale(\n",
    "    wine['X']),wine['y'],0.5,0.5,stoch=True)\n",
    "\n",
    "\n",
    "# In[17]:\n",
    "\n",
    "j=0\n",
    "losses2 = []\n",
    "while(j<threshold*500 and  stoch1.done==False):\n",
    "    if j%100==0:\n",
    "        #print(j/100,stoch1.loss())\n",
    "        losses2.insert(int(j/100),stoch1.loss())\n",
    "    stoch1.update()\n",
    "    j+=1\n",
    "\n",
    "\n",
    "# In[18]:\n",
    "\n",
    "plt.plot(range(min(threshold*5,int(j/100)+1)),losses2)\n",
    "plt.title('Problem 6.2')\n",
    "plt.ylabel(\"Loss\")\n",
    "plt.xlabel(\"Number of Iterations (hundreds)\")\n",
    "plt.show()\n",
    "\n",
    "\n",
    "# In[19]:\n",
    "\n",
    "stochp1 = g_descent(sklearn.preprocessing.scale(\n",
    "    wine['X']),wine['y'],0.5,0.5,stoch=True) \n",
    "\n",
    "\n",
    "# In[20]:\n",
    "\n",
    "k=0\n",
    "losses3 = []\n",
    "while(k<threshold*100 and  stochp1.done==False):\n",
    "    if k%100==0:\n",
    "        #print(k,stochp1.loss())\n",
    "        losses3.insert(int(k/100),stochp1.loss())\n",
    "    stochp1.updatep()\n",
    "    k+=1\n",
    "\n",
    "\n",
    "# In[21]:\n",
    "\n",
    "plt.plot(range(min(threshold,int(k/100)+1)),losses3)\n",
    "plt.title('Problem 6.3')\n",
    "plt.ylabel(\"Loss\")\n",
    "plt.xlabel(\"Number of Iterations (hundreds)\")\n",
    "plt.show()\n",
    "\n",
    "\n",
    "# In[22]:\n",
    "\n",
    "wine_train, wine_v, wine_train_label,wine_v_label=train_test_split(\n",
    "    wine['X'],wine['y'],test_size=0.99)\n",
    "\n",
    "\n",
    "# In[23]:\n",
    "\n",
    "#t = 100\n",
    "#for lam in [0,1/6000,0.01,0.05,0.1,0.25,0.5,0.75,1,1.5,2,5,10,15]:\n",
    "#    for ep in [0.025,0.05]:\n",
    "#        test = g_descent(wine_train,wine_train_label,lam,ep)\n",
    "#        i=0\n",
    "#        while(test.done==False and int(i/1000)<t):\n",
    "#            test.update()\n",
    "#            i+=1\n",
    "#        i=0\n",
    "#        print(lam,ep,test.score(wine_v,wine_v_label))\n",
    "i=0\n",
    "test = g_descent(sklearn.preprocessing.scale(wine_train),wine_train_label,1/6000,5)\n",
    "while(test.done==False and i<100000):\n",
    "    #if(i%1000==0):\n",
    "#        print(test.loss())\n",
    "    test.update()\n",
    "    i+=1\n",
    "\n",
    "\n",
    "# In[24]:\n",
    "\n",
    "test.score(sklearn.preprocessing.scale(wine_v),wine_v_label)\n",
    "\n",
    "\n",
    "# In[25]:\n",
    "\n",
    "def output(train, train_labels, test):\n",
    "    grad = g_descent(sklearn.preprocessing.scale(\n",
    "        train),train_labels,1/6000,5)\n",
    "    i=1\n",
    "    while(grad.done==False):\n",
    "        grad.update()\n",
    "        #if i%1000==0:\n",
    "        #    print(grad.loss())\n",
    "        i+=1\n",
    "    out = grad.predict(sklearn.preprocessing.scale(test))\n",
    "    np.savetxt(\n",
    "        \"winekaggleout.csv\", np.column_stack(\n",
    "        (np.array(\n",
    "            list(range(test.shape[0]))),out)).astype(int), \n",
    "        fmt =\"%i\",delimiter = \",\", \n",
    "        header = \"Id,Category\",comments = \"\")\n",
    "\n",
    "\n",
    "# In[27]:\n",
    "\n",
    "output(wine['X'],wine['y'],wine['X_test'])\n",
    "\n",
    "\n",
    "# ![wine](winekaggle.PNG)\n",
    "\n",
    "# In[ ]:\n",
    "\n",
    "\n",
    "\n",
    "\n",
    "# In[ ]:\n",
    "\n",
    "\n",
    "\n",
    "\n",
    "# In[ ]:\n",
    "\n",
    "\n",
    "\n"
   ]
  },
  {
   "cell_type": "code",
   "execution_count": null,
   "metadata": {
    "collapsed": true
   },
   "outputs": [],
   "source": []
  },
  {
   "cell_type": "code",
   "execution_count": null,
   "metadata": {
    "collapsed": true
   },
   "outputs": [],
   "source": []
  }
 ],
 "metadata": {
  "kernelspec": {
   "display_name": "Python 3",
   "language": "python",
   "name": "python3"
  },
  "language_info": {
   "codemirror_mode": {
    "name": "ipython",
    "version": 3
   },
   "file_extension": ".py",
   "mimetype": "text/x-python",
   "name": "python",
   "nbconvert_exporter": "python",
   "pygments_lexer": "ipython3",
   "version": "3.6.0"
  }
 },
 "nbformat": 4,
 "nbformat_minor": 2
}
