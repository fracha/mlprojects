{
 "cells": [
  {
   "cell_type": "code",
   "execution_count": 1,
   "metadata": {
    "collapsed": true
   },
   "outputs": [],
   "source": [
    "import matplotlib\n",
    "import numpy as np\n",
    "import matplotlib.cm as cm\n",
    "import matplotlib.mlab as mlab\n",
    "import matplotlib.pyplot as plt\n",
    "import csv\n",
    "import time\n",
    "import collections\n",
    "import random\n",
    "import timeit\n",
    "import math\n",
    "\n",
    "import scipy,sklearn,pylab\n",
    "from scipy import io\n",
    "\n",
    "from sklearn import model_selection,covariance\n",
    "from sklearn.model_selection import train_test_split,KFold\n",
    "from sklearn.feature_extraction import DictVectorizer\n",
    "\n",
    "matplotlib.rcParams['xtick.direction'] = 'out'\n",
    "matplotlib.rcParams['ytick.direction'] = 'out'\n",
    "matplotlib.rcParams['figure.figsize'] = (9,8)"
   ]
  },
  {
   "cell_type": "code",
   "execution_count": 2,
   "metadata": {
    "collapsed": true
   },
   "outputs": [],
   "source": [
    "def readfile(path, cols):\n",
    "    with open(path) as csvfile:\n",
    "        reader = csv.DictReader(csvfile)\n",
    "        q=list(reader)\n",
    "    s = [dict(([a,'-1'] if (x=='') else [a,x]) for a,x in b.items()) for b in q]\n",
    "    return [dict((\n",
    "        [a,float(x)] if a in cols else [a,x]) for a,x in b.items()) for b in s]"
   ]
  },
  {
   "cell_type": "code",
   "execution_count": 3,
   "metadata": {
    "collapsed": true
   },
   "outputs": [],
   "source": [
    "def removeneg(data,n=None):    \n",
    "    def f(data,n=None):\n",
    "        a = data[data!=-1]\n",
    "        if n:\n",
    "            m=n\n",
    "        else:\n",
    "            m = np.median(a)\n",
    "        for i in range(len(data)):\n",
    "            if (data==-1)[i]:\n",
    "                data[i]=m\n",
    "        return m\n",
    "    l = []\n",
    "    if n:\n",
    "        for i in range(data.shape[1]):\n",
    "            f(data[:,i],n[i])\n",
    "    else:\n",
    "         for i in range(data.shape[1]):\n",
    "            l.append(f(data[:,i]))\n",
    "    return l"
   ]
  },
  {
   "cell_type": "code",
   "execution_count": 4,
   "metadata": {
    "collapsed": false
   },
   "outputs": [],
   "source": [
    "s = readfile(\"hw5_titanic_dist/titanic_training.csv\",[\n",
    "    'pclass','age','sibsp','parch','fare'])\n",
    "\n",
    "titanic_labels = np.array([z.pop('survived') for z in s]).astype(\n",
    "    float).astype(int)\n",
    "r = readfile(\"hw5_titanic_dist/titanic_testing_data.csv\",[\n",
    "    'pclass','age','sibsp','parch','fare'])\n",
    "\n",
    "t = s+r\n",
    "\n",
    "v= sklearn.feature_extraction.DictVectorizer(sparse=False,sort=False)\n",
    "titanic_hot = v.fit_transform(t)\n",
    "titanic_hot_train = titanic_hot[:1000,:]\n",
    "titanic_test = titanic_hot[1000:,:]\n",
    "\n",
    "titanic_feat_names = v.get_feature_names()"
   ]
  },
  {
   "cell_type": "code",
   "execution_count": 5,
   "metadata": {
    "collapsed": false
   },
   "outputs": [
    {
     "data": {
      "text/plain": [
       "[]"
      ]
     },
     "execution_count": 5,
     "metadata": {},
     "output_type": "execute_result"
    }
   ],
   "source": [
    "t_medians = removeneg(titanic_hot_train)\n",
    "removeneg(titanic_test,t_medians)\n",
    "#titanic_hot_train"
   ]
  },
  {
   "cell_type": "code",
   "execution_count": 6,
   "metadata": {
    "collapsed": false
   },
   "outputs": [],
   "source": [
    "#v.inverse_transform(titanic_hot_train)"
   ]
  },
  {
   "cell_type": "code",
   "execution_count": 7,
   "metadata": {
    "collapsed": false
   },
   "outputs": [],
   "source": [
    "spam= scipy.io.loadmat(\"hw5_spam_dist/dist/spam_data\")\n",
    "#spam"
   ]
  },
  {
   "cell_type": "code",
   "execution_count": 8,
   "metadata": {
    "collapsed": false
   },
   "outputs": [],
   "source": [
    "spam_train = spam['training_data']\n",
    "spam_labels = spam['training_labels'][0]\n",
    "spam_test = spam['test_data']"
   ]
  },
  {
   "cell_type": "code",
   "execution_count": 9,
   "metadata": {
    "collapsed": false
   },
   "outputs": [],
   "source": [
    "s= readfile(\"hw5_census_dist/train_data.csv\",[\n",
    "    'capital-gain','capital-loss','age','hours-per-week',\n",
    "    'education-num','fnlwgt'])\n",
    "census_labels = np.array([z.pop('label') for z in s]).astype(int)\n",
    "r = readfile(\"hw5_census_dist/test_data.csv\",[\n",
    "    'capital-gain','capital-loss','age','hours-per-week',\n",
    "    'education-num','fnlwgt'])\n",
    "\n",
    "t=s+r\n",
    "v= sklearn.feature_extraction.DictVectorizer(sparse=False,sort=False)\n",
    "census_hot = v.fit_transform(t)\n",
    "census_hot_train = census_hot[:32724,:]\n",
    "census_test = census_hot[32724:,:]\n",
    "\n",
    "census_feat_names = v.get_feature_names()\n"
   ]
  },
  {
   "cell_type": "code",
   "execution_count": 10,
   "metadata": {
    "collapsed": false
   },
   "outputs": [],
   "source": [
    "#c_medians = removeneg(census_hot_train)\n",
    "#census_hot_train"
   ]
  },
  {
   "cell_type": "code",
   "execution_count": 11,
   "metadata": {
    "collapsed": false
   },
   "outputs": [],
   "source": [
    "#v.inverse_transform(census_hot_train)"
   ]
  },
  {
   "cell_type": "code",
   "execution_count": 12,
   "metadata": {
    "collapsed": false
   },
   "outputs": [],
   "source": [
    "class DecisionTree:\n",
    "    def __init__(self,features,featureNames=None,n=None):\n",
    "        self.features = features\n",
    "        self.n = n\n",
    "        if featureNames:\n",
    "            self.featureNames = featureNames\n",
    "        else:\n",
    "            self.featureNames = features\n",
    "    def select_features(self):        \n",
    "        if self.n:\n",
    "            return random.sample(self.features,self.n)  \n",
    "        else:\n",
    "            return self.features\n",
    "    def sort(self,S,by):\n",
    "        return [S[i] for i in np.argsort(self.data[S,by])]\n",
    "    def train(self,data,labels,depth=-1):\n",
    "        self.data = data\n",
    "        self.labels = labels\n",
    "        self.tree = self.make_tree(data,labels,depth)\n",
    "    def findleaf(self,point,node,v=False):\n",
    "        if node.isLeaf:\n",
    "            return node.cat\n",
    "        if point[node.split_feat]<node.split_val:\n",
    "            if v:\n",
    "                print(\"\\'\"+str(self.featureNames[node.split_feat])+\n",
    "                      '\\'<'+str(node.split_val))\n",
    "            return self.findleaf(point,node.left,v)\n",
    "        else:\n",
    "            if v:\n",
    "                print(\"\\'\"+str(self.featureNames[node.split_feat])+\n",
    "                      '\\'>='+str(node.split_val))\n",
    "            return self.findleaf(point,node.right,v)\n",
    "    def predict(self,data):\n",
    "        return np.apply_along_axis(self.findleaf,1,data,self.tree)\n",
    "    def score(self,v,lab):\n",
    "        return 1-np.count_nonzero(lab-self.predict(v))/lab.shape[0]\n",
    "    def make_tree(self,data,labels,depth=-1):\n",
    "        return self.make_node(list(range(data.shape[0])),depth)\n",
    "    def bfswalk(self):\n",
    "        queue = [self.tree]\n",
    "        while queue :\n",
    "            nextqueue =[]\n",
    "            for n in queue:\n",
    "                print(n, end =\" \")\n",
    "                if not n.isLeaf:\n",
    "                    nextqueue.append(n.left)\n",
    "                    nextqueue.append(n.right)\n",
    "            print(\"\")\n",
    "            queue=nextqueue\n",
    "    def walk(self):\n",
    "        self.dfswalk(self.tree)\n",
    "    def dfswalk(self,node,depth=0,c=''):\n",
    "        if node.isLeaf:\n",
    "            print('|  '*(depth-1)+c+\"class:\"+str(node.cat))\n",
    "        else:\n",
    "            print('|  '*(depth-1)+c+\"feat:\\'\"+\n",
    "                  str(self.featureNames[node.split_feat]) + '\\',val:' +\n",
    "                  str(node.split_val))\n",
    "            self.dfswalk(node.left,depth+1,c=\"<  \")\n",
    "            self.dfswalk(node.right,depth+1,c=\">= \")\n",
    "    \n",
    "                \n",
    "    class Node:\n",
    "        def __init__(self,S,isLeaf,left=None,right=None,\n",
    "                     split_feat=None,split_val=None,cat=None):\n",
    "            self.S = S\n",
    "            self.left = left\n",
    "            self.right = right\n",
    "            self.isLeaf= isLeaf\n",
    "            self.split_feat = split_feat\n",
    "            self.split_val = split_val\n",
    "            self.cat=cat\n",
    "        def __repr__(self):\n",
    "            if self.isLeaf:\n",
    "                return str(self.cat)\n",
    "            else:\n",
    "                return str(self.split_feat) + \",\"+str(self.split_val)        \n",
    "    def is_pure(self,S):\n",
    "        return len(set(self.labels[S]))==1\n",
    "    def xlog(self,x):\n",
    "        return x*math.log(x) if x > 0 else 0\n",
    "    \n",
    "    def entropy(self,left,right):\n",
    "        new = 0\n",
    "        for l in left.keys():\n",
    "            new+=self.xlog(left[l])\n",
    "        for r in right.keys():\n",
    "            new+=self.xlog(right[r])\n",
    "        new -= self.xlog(sum(right.values()))\n",
    "        new -= self.xlog(sum(left.values()))\n",
    "        return new\n",
    "                    \n",
    "    def make_node(self,S,depth=-1):\n",
    "        #print(\"making node with \"+str(S))\n",
    "        if self.is_pure(S) or depth==0: \n",
    "            #print(\"pure node \" + str(self.labels[S]))\n",
    "            return self.Node(S,isLeaf=True,cat=scipy.stats.mode(\n",
    "                self.labels[S])[0][0])\n",
    "            \n",
    "        else:\n",
    "            diff= 0\n",
    "            feat = None\n",
    "            beta = None\n",
    "            for f in self.select_features():   \n",
    "                hist = np.unique(self.data[S,f],return_counts=True)\n",
    "                sl= []\n",
    "                sr = self.sort(S,by=f)\n",
    "                sr.reverse()\n",
    "                propr = collections.Counter(self.labels[S])\n",
    "                srlen = len(sr)\n",
    "                sllen = 0\n",
    "                propl = collections.Counter()\n",
    "                new = 0\n",
    "                i=0\n",
    "                finalsl = sl[:]\n",
    "                finalsr = sr[:]\n",
    "                debt = 0\n",
    "                for val in hist[0][1:]:                   \n",
    "                    j=hist[1][i]                    \n",
    "                    l2=[sr.pop() for i in range(j)]\n",
    "                    sl.extend(l2)\n",
    "                    sam = collections.Counter(self.labels[l2])                    \n",
    "                    debt+=j\n",
    "                    propl2 = propl + sam\n",
    "                    propr2 = propr - sam\n",
    "                    for k in sam.keys():    \n",
    "                        new += self.xlog(propl[k]) -\\\n",
    "                        self.xlog(propl2[k]) +\\\n",
    "                        self.xlog(propr[k]) - \\\n",
    "                        self.xlog(propr2[k])                        \n",
    "                    propl = propl2\n",
    "                    propr = propr2                    \n",
    "                    new += -self.xlog(sllen) +self.xlog(sllen+j) - \\\n",
    "                    self.xlog(srlen) +self.xlog(srlen-j)                   \n",
    "                    sllen +=j\n",
    "                    srlen -=j\n",
    "                    i+=1\n",
    "                    if new<diff:\n",
    "                        diff = new\n",
    "                        beta = val\n",
    "                        feat = f                                                    \n",
    "                        l1 = [finalsr.pop() for i in range(debt)]\n",
    "                        finalsl.extend(l1)\n",
    "                        finalsl2 = finalsl\n",
    "                        finalsr2 = finalsr\n",
    "                        debt =0\n",
    "            if diff==0: \n",
    "                return self.Node(S,isLeaf = True,cat=scipy.stats.mode(\n",
    "                    self.labels[S])[0][0])\n",
    "            if depth>0:\n",
    "                return self.Node(S,isLeaf=False,left=self.make_node(\n",
    "                finalsl2,depth-1),right = self.make_node(\n",
    "                finalsr2,depth-1),split_feat=feat,split_val=beta)\n",
    "            else:\n",
    "                return self.Node(S,isLeaf=False,left=self.make_node(\n",
    "                finalsl2),right = self.make_node(\n",
    "                finalsr2),split_feat=feat,split_val=beta)"
   ]
  },
  {
   "cell_type": "code",
   "execution_count": 13,
   "metadata": {
    "collapsed": false
   },
   "outputs": [],
   "source": [
    "class RandomForest:\n",
    "    def __init__(self,features,featuresNames,n=1):\n",
    "        self.features = features       \n",
    "        if featuresNames:\n",
    "            self.featureNames = featuresNames\n",
    "        else:\n",
    "            self.featureNames = features\n",
    "        self.numtrees = n\n",
    "    def train(self,data,labels,ss,m,depth=-1):\n",
    "        self.ensemble = []\n",
    "        for i in range(self.numtrees):\n",
    "            datas = np.random.choice(data.shape[0],ss,True)\n",
    "            d =DecisionTree(self.features,self.featureNames,n=int(m))\n",
    "            d.train(data[datas],labels[datas],depth)\n",
    "            self.ensemble.append(d)\n",
    "    def predictpoint(self,point):\n",
    "        l = [d.findleaf(point,d.tree) for d in self.ensemble]\n",
    "        return scipy.stats.mode(l)[0][0]\n",
    "    def predict(self,data):\n",
    "        return np.apply_along_axis(self.predictpoint,1,data)\n",
    "    def score(self,v,lab):\n",
    "        return 1-np.count_nonzero(lab-self.predict(v))/lab.shape[0]\n",
    "    def walk(self):\n",
    "        for d in self.ensemble:\n",
    "            d.walk()\n",
    "    \n",
    "        "
   ]
  },
  {
   "cell_type": "code",
   "execution_count": 14,
   "metadata": {
    "collapsed": true
   },
   "outputs": [],
   "source": [
    "kf = KFold(n_splits = 5,shuffle=True)\n",
    "def j(data,label,names,d=-1):\n",
    "    tree = DecisionTree(list(range(data.shape[1])),names)\n",
    "    score = 0\n",
    "    for train_ind,test_ind in kf.split(data):\n",
    "        tdata = data[train_ind]\n",
    "        tlabel = label[train_ind]\n",
    "        vdata = data[test_ind]\n",
    "        vlabel = label[test_ind]        \n",
    "        tree.train(tdata,tlabel,depth=d)\n",
    "        score += tree.score(vdata,vlabel)\n",
    "\n",
    "    return score/5\n",
    "\n",
    "def k(data,label,names,num_trees,d_bag,f_bag,d=-1):\n",
    "    tree = RandomForest(list(range(data.shape[1])),names,num_trees)\n",
    "    score = 0\n",
    "    for train_ind,test_ind in kf.split(data):\n",
    "        tdata = data[train_ind]\n",
    "        tlabel = label[train_ind]\n",
    "        vdata = data[test_ind]\n",
    "        vlabel = label[test_ind]        \n",
    "        tree.train(tdata,tlabel,d_bag,f_bag,depth=d)\n",
    "        score += tree.score(vdata,vlabel)\n",
    "\n",
    "    return score/5"
   ]
  },
  {
   "cell_type": "code",
   "execution_count": 15,
   "metadata": {
    "collapsed": true
   },
   "outputs": [],
   "source": [
    "spam_feat_names = ['pain','private','bank','money','drug','spam',\n",
    "                   'prescription','creative','height','featured',\n",
    "                   'differ','width','other','energy','business',\n",
    "                   'message','volumes','revision','path','meter',\n",
    "                   'memo','planning','pleased','record','out',';',\n",
    "                   '$','#','!','(','[','&']"
   ]
  },
  {
   "cell_type": "code",
   "execution_count": 16,
   "metadata": {
    "collapsed": false
   },
   "outputs": [],
   "source": [
    "spam_t, spam_v, spam_t_label,spam_v_label=train_test_split(\n",
    "    spam_train,spam_labels,test_size=0.2)\n",
    "census_t, census_v, census_t_label, census_v_label = train_test_split(\n",
    "    census_hot_train,census_labels,test_size = 0.2)\n",
    "titanic_t, titanic_v, titanic_t_label, titanic_v_label = train_test_split(\n",
    "    titanic_hot_train,titanic_labels,test_size = 0.2)"
   ]
  },
  {
   "cell_type": "code",
   "execution_count": 17,
   "metadata": {
    "collapsed": false
   },
   "outputs": [
    {
     "name": "stdout",
     "output_type": "stream",
     "text": [
      "Spam Tree test accuracy: 0.8532777807077686\n",
      "Spam Tree validation accuracy: 0.7897068129086691\n",
      "Spam Forest test accuracy: 0.819418807024946\n",
      "Spam Forest validation accuracy: 0.7937144062434085\n"
     ]
    }
   ],
   "source": [
    "spamtree = DecisionTree(list(range(32)),spam_feat_names)\n",
    "spamforest = RandomForest(list(range(32)),spam_feat_names,10)\n",
    "spamtree.train(spam_t,spam_t_label)\n",
    "spamforest.train(spam_t,spam_t_label,spam_t.shape[0],np.sqrt(\n",
    "    spam_t.shape[1]))\n",
    "\n",
    "print(\"Spam Tree test accuracy:\",spamtree.score(spam_t,spam_t_label))\n",
    "print(\"Spam Tree validation accuracy:\",spamtree.score(\n",
    "    spam_v,spam_v_label))\n",
    "                                                      \n",
    "print(\"Spam Forest test accuracy:\",spamforest.score(spam_t,spam_t_label))\n",
    "print(\"Spam Forest validation accuracy:\",spamforest.score(\n",
    "    spam_v,spam_v_label))"
   ]
  },
  {
   "cell_type": "code",
   "execution_count": 18,
   "metadata": {
    "collapsed": false
   },
   "outputs": [
    {
     "name": "stdout",
     "output_type": "stream",
     "text": [
      "Census Tree test accuracy: 1.0\n",
      "Census Tree validation accuracy: 0.8108479755538579\n",
      "Census Forest test accuracy: 0.8914397035792048\n",
      "Census Forest validation accuracy: 0.8614209320091673\n"
     ]
    }
   ],
   "source": [
    "censustree = DecisionTree(list(range(108)),census_feat_names)\n",
    "censusforest = RandomForest(list(range(108)),census_feat_names,10)\n",
    "censustree.train(census_t,census_t_label)\n",
    "censusforest.train(census_t,census_t_label,census_t.shape[0],np.sqrt(\n",
    "    census_t.shape[1]))\n",
    "\n",
    "print(\"Census Tree test accuracy:\",censustree.score(\n",
    "    census_t,census_t_label))\n",
    "print(\"Census Tree validation accuracy:\",censustree.score(\n",
    "    census_v,census_v_label))\n",
    "                                                      \n",
    "print(\"Census Forest test accuracy:\",censusforest.score(\n",
    "    census_t,census_t_label))\n",
    "print(\"Census Forest validation accuracy:\",censusforest.score(\n",
    "    census_v,census_v_label))"
   ]
  },
  {
   "cell_type": "code",
   "execution_count": 19,
   "metadata": {
    "collapsed": false
   },
   "outputs": [
    {
     "name": "stdout",
     "output_type": "stream",
     "text": [
      "Titanic Tree test accuracy: 0.9975\n",
      "Titanic Tree validation accuracy: 0.8200000000000001\n",
      "Titanic Forest test accuracy: 0.86125\n",
      "Titanic Forest validation accuracy: 0.8049999999999999\n"
     ]
    }
   ],
   "source": [
    "titanictree = DecisionTree(list(range(1129)),titanic_feat_names)\n",
    "titanicforest = RandomForest(list(range(1129)),titanic_feat_names,10)\n",
    "titanictree.train(titanic_t,titanic_t_label)\n",
    "titanicforest.train(titanic_t,titanic_t_label,titanic_t.shape[0],np.sqrt(\n",
    "    titanic_t.shape[1]))\n",
    "\n",
    "print(\"Titanic Tree test accuracy:\",titanictree.score(\n",
    "    titanic_t,titanic_t_label))\n",
    "print(\"Titanic Tree validation accuracy:\",titanictree.score(\n",
    "    titanic_v,titanic_v_label))\n",
    "                                                      \n",
    "print(\"Titanic Forest test accuracy:\",titanicforest.score(\n",
    "    titanic_t,titanic_t_label))\n",
    "print(\"Titanic Forest validation accuracy:\",titanicforest.score(\n",
    "    titanic_v,titanic_v_label))"
   ]
  },
  {
   "cell_type": "code",
   "execution_count": 20,
   "metadata": {
    "collapsed": true
   },
   "outputs": [],
   "source": [
    "#for c in [1,2,3,4,5,10,15,20,25,30,40]:\n",
    "#    print(c,j(spam_train,spam_labels,spam_feat_names,c))"
   ]
  },
  {
   "cell_type": "code",
   "execution_count": 21,
   "metadata": {
    "collapsed": true
   },
   "outputs": [],
   "source": [
    "#for k in [50]:\n",
    "#    print(c,k(spam_train,spam_labels,spam_feat_names,c,spam_train.shape[0],np.sqrt(spam_train.shape[1]),20))"
   ]
  },
  {
   "cell_type": "code",
   "execution_count": 22,
   "metadata": {
    "collapsed": true
   },
   "outputs": [],
   "source": [
    "#kaggle\n",
    "spamforest = RandomForest(list(range(32)),spam_feat_names,50)\n",
    "spamforest.train(spam_train,spam_labels,spam_train.shape[0],np.sqrt(\n",
    "    spam_train.shape[1]),depth=20)\n",
    "censusforest = RandomForest(list(range(108)),census_feat_names,10)\n",
    "censusforest.train(\n",
    "    census_hot_train,census_labels,census_hot_train.shape[0],np.sqrt(\n",
    "    census_hot_train.shape[1]))\n",
    "titanicforest = RandomForest(list(range(1129)),titanic_feat_names,20)\n",
    "titanicforest.train(\n",
    "    titanic_hot_train,titanic_labels,titanic_hot_train.shape[0],7*np.sqrt(\n",
    "    titanic_hot_train.shape[1]))"
   ]
  },
  {
   "cell_type": "code",
   "execution_count": 23,
   "metadata": {
    "collapsed": true
   },
   "outputs": [],
   "source": [
    "def output(self,path,data,zindex=0):\n",
    "        np.savetxt(\n",
    "        path, np.column_stack(\n",
    "        (np.array(\n",
    "            list(zindex+np.arange(data.shape[0]))),self.predict(\n",
    "            data))).astype(int), \n",
    "        fmt =\"%i\",delimiter = \",\", \n",
    "        header = \"Id,Category\",comments = \"\")"
   ]
  },
  {
   "cell_type": "code",
   "execution_count": 24,
   "metadata": {
    "collapsed": true
   },
   "outputs": [],
   "source": [
    "output(spamforest,\"spamkaggle.csv\",spam_test,0)"
   ]
  },
  {
   "cell_type": "markdown",
   "metadata": {},
   "source": [
    "![spam](spamkaggle.PNG)"
   ]
  },
  {
   "cell_type": "code",
   "execution_count": 25,
   "metadata": {
    "collapsed": true
   },
   "outputs": [],
   "source": [
    "output(censusforest,\"censuskaggle.csv\",census_test,1)"
   ]
  },
  {
   "cell_type": "markdown",
   "metadata": {},
   "source": [
    "![census](censuskaggle.PNG)"
   ]
  },
  {
   "cell_type": "code",
   "execution_count": 26,
   "metadata": {
    "collapsed": true
   },
   "outputs": [],
   "source": [
    "output(titanicforest,\"titanicforest.csv\",titanic_test,1)"
   ]
  },
  {
   "cell_type": "markdown",
   "metadata": {},
   "source": [
    "![titanic](titanickaggle.PNG)"
   ]
  },
  {
   "cell_type": "code",
   "execution_count": 27,
   "metadata": {
    "collapsed": true
   },
   "outputs": [],
   "source": [
    "spamtree2 = DecisionTree(list(range(32)),spam_feat_names)\n",
    "spamtree2.train(spam_train,spam_labels)\n",
    "spamforest2 = RandomForest(list(range(32)),spam_feat_names,64)\n",
    "spamforest2.train(spam_train,spam_labels,spam_train.shape[0],np.sqrt(\n",
    "    spam_train.shape[1]),depth=1)"
   ]
  },
  {
   "cell_type": "code",
   "execution_count": 28,
   "metadata": {
    "collapsed": false
   },
   "outputs": [
    {
     "name": "stdout",
     "output_type": "stream",
     "text": [
      "'!'<1.0\n",
      "'('<1.0\n",
      "'meter'<1.0\n",
      "';'<2.0\n",
      "'creative'<1.0\n",
      "'energy'<1.0\n",
      "'money'<1.0\n",
      "'pain'<1.0\n",
      "'$'<1.0\n",
      "'&'<1.0\n",
      "'prescription'<1.0\n",
      "'memo'<1.0\n",
      "'volumes'<1.0\n",
      "'['<1.0\n",
      "'bank'<2.0\n",
      "'spam'<1.0\n",
      "'business'<1.0\n",
      "'private'<1.0\n",
      "'drug'<1.0\n",
      "'planning'<1.0\n",
      "'revision'<1.0\n",
      "'differ'<1.0\n",
      "'path'<1.0\n",
      "'other'<2.0\n",
      "'message'>=1.0\n",
      "'#'>=1.0\n",
      "'out'<2.0\n",
      "'#'<3.0\n"
     ]
    },
    {
     "data": {
      "text/plain": [
       "1"
      ]
     },
     "execution_count": 28,
     "metadata": {},
     "output_type": "execute_result"
    }
   ],
   "source": [
    "#classify spam\n",
    "spamtree2.findleaf(spam_train[0],spamtree.tree,True)"
   ]
  },
  {
   "cell_type": "code",
   "execution_count": 29,
   "metadata": {
    "collapsed": false
   },
   "outputs": [
    {
     "name": "stdout",
     "output_type": "stream",
     "text": [
      "'!'<1.0\n",
      "'('>=1.0\n",
      "'money'<1.0\n",
      "'featured'<1.0\n",
      "'energy'<1.0\n",
      "'$'>=1.0\n",
      "';'<4.0\n",
      "'pain'<1.0\n",
      "'volumes'<1.0\n",
      "'private'<1.0\n",
      "'('<2.0\n",
      "'$'>=2.0\n",
      "'&'<3.0\n",
      "'$'<3.0\n",
      "';'>=1.0\n",
      "'bank'<3.0\n",
      "'#'<2.0\n",
      "'out'<1.0\n",
      "'message'>=1.0\n"
     ]
    },
    {
     "data": {
      "text/plain": [
       "0"
      ]
     },
     "execution_count": 29,
     "metadata": {},
     "output_type": "execute_result"
    }
   ],
   "source": [
    "#classify ham\n",
    "spamtree2.findleaf(spam_train[-1],spamtree.tree,True)"
   ]
  },
  {
   "cell_type": "code",
   "execution_count": 30,
   "metadata": {
    "collapsed": false
   },
   "outputs": [
    {
     "data": {
      "text/plain": [
       "Counter({('!', 1.0): 11,\n",
       "         ('$', 1.0): 1,\n",
       "         ('&', 1.0): 1,\n",
       "         ('(', 1.0): 8,\n",
       "         ('creative', 1.0): 3,\n",
       "         ('differ', 1.0): 3,\n",
       "         ('energy', 1.0): 3,\n",
       "         ('featured', 1.0): 5,\n",
       "         ('memo', 1.0): 1,\n",
       "         ('meter', 1.0): 5,\n",
       "         ('money', 1.0): 12,\n",
       "         ('prescription', 1.0): 4,\n",
       "         ('spam', 1.0): 2,\n",
       "         ('volumes', 1.0): 5})"
      ]
     },
     "execution_count": 30,
     "metadata": {},
     "output_type": "execute_result"
    }
   ],
   "source": [
    "#most often split\n",
    "c = collections.Counter()\n",
    "for t in spamforest2.ensemble:\n",
    "    c[(spamforest2.featureNames[t.tree.split_feat],t.tree.split_val)] +=1\n",
    "c"
   ]
  },
  {
   "cell_type": "code",
   "execution_count": 31,
   "metadata": {
    "collapsed": false
   },
   "outputs": [],
   "source": [
    "censustree2 = DecisionTree(list(range(108)),census_feat_names)\n",
    "censustree2.train(census_t,census_t_label)\n",
    "censusforest2 = RandomForest(list(range(108)),census_feat_names,216)\n",
    "censusforest2.train(\n",
    "    census_hot_train,census_labels,census_hot_train.shape[0],np.sqrt(\n",
    "    census_hot_train.shape[1]),depth=1)"
   ]
  },
  {
   "cell_type": "code",
   "execution_count": 32,
   "metadata": {
    "collapsed": false
   },
   "outputs": [
    {
     "name": "stdout",
     "output_type": "stream",
     "text": [
      "'marital-status=Married-civ-spouse'>=1.0\n",
      "'education-num'<12.0\n",
      "'capital-gain'>=5178.0\n",
      "'age'<61.0\n",
      "'native-country=United-States'>=1.0\n"
     ]
    },
    {
     "data": {
      "text/plain": [
       "1"
      ]
     },
     "execution_count": 32,
     "metadata": {},
     "output_type": "execute_result"
    }
   ],
   "source": [
    "#classify 1\n",
    "censustree2.findleaf(census_hot_train[4],censustree.tree,True)"
   ]
  },
  {
   "cell_type": "code",
   "execution_count": 33,
   "metadata": {
    "collapsed": false
   },
   "outputs": [
    {
     "name": "stdout",
     "output_type": "stream",
     "text": [
      "'marital-status=Married-civ-spouse'<1.0\n",
      "'capital-gain'<7430.0\n",
      "'education-num'<13.0\n",
      "'age'>=34.0\n",
      "'hours-per-week'>=42.0\n",
      "'capital-loss'<2444.0\n",
      "'education-num'<7.0\n",
      "'fnlwgt'>=50837.0\n"
     ]
    },
    {
     "data": {
      "text/plain": [
       "0"
      ]
     },
     "execution_count": 33,
     "metadata": {},
     "output_type": "execute_result"
    }
   ],
   "source": [
    "#classify 0\n",
    "censustree2.findleaf(census_hot_train[0],censustree.tree,True)"
   ]
  },
  {
   "cell_type": "code",
   "execution_count": 34,
   "metadata": {
    "collapsed": false
   },
   "outputs": [
    {
     "data": {
      "text/plain": [
       "Counter({('age', 28.0): 5,\n",
       "         ('age', 29.0): 9,\n",
       "         ('capital-gain', 5178.0): 8,\n",
       "         ('capital-gain', 7262.0): 5,\n",
       "         ('capital-gain', 7298.0): 1,\n",
       "         ('capital-loss', 1825.0): 5,\n",
       "         ('capital-loss', 1848.0): 3,\n",
       "         ('education-num', 13.0): 14,\n",
       "         ('education=11th', 1.0): 2,\n",
       "         ('education=Bachelors', 1.0): 3,\n",
       "         ('education=Doctorate', 1.0): 1,\n",
       "         ('education=HS-grad', 1.0): 1,\n",
       "         ('education=Masters', 1.0): 2,\n",
       "         ('education=Prof-school', 1.0): 2,\n",
       "         ('hours-per-week', 41.0): 4,\n",
       "         ('hours-per-week', 42.0): 5,\n",
       "         ('hours-per-week', 43.0): 1,\n",
       "         ('marital-status=Divorced', 1.0): 2,\n",
       "         ('marital-status=Married-civ-spouse', 1.0): 21,\n",
       "         ('marital-status=Never-married', 1.0): 18,\n",
       "         ('native-country=Mexico', 1.0): 1,\n",
       "         ('occupation=?', 1.0): 2,\n",
       "         ('occupation=Adm-clerical', 1.0): 1,\n",
       "         ('occupation=Exec-managerial', 1.0): 11,\n",
       "         ('occupation=Handlers-cleaners', 1.0): 1,\n",
       "         ('occupation=Machine-op-inspct', 1.0): 1,\n",
       "         ('occupation=Other-service', 1.0): 7,\n",
       "         ('occupation=Prof-specialty', 1.0): 7,\n",
       "         ('race=Black', 1.0): 2,\n",
       "         ('race=White', 1.0): 3,\n",
       "         ('relationship=Husband', 1.0): 17,\n",
       "         ('relationship=Not-in-family', 1.0): 6,\n",
       "         ('relationship=Own-child', 1.0): 19,\n",
       "         ('relationship=Unmarried', 1.0): 10,\n",
       "         ('sex=Female', 1.0): 9,\n",
       "         ('sex=Male', 1.0): 5,\n",
       "         ('workclass=Federal-gov', 1.0): 1,\n",
       "         ('workclass=Self-emp-inc', 1.0): 1})"
      ]
     },
     "execution_count": 34,
     "metadata": {},
     "output_type": "execute_result"
    }
   ],
   "source": [
    "#most often split\n",
    "c = collections.Counter()\n",
    "for t in censusforest2.ensemble:\n",
    "    c[(censusforest2.featureNames[t.tree.split_feat],t.tree.split_val)] +=1\n",
    "c"
   ]
  },
  {
   "cell_type": "code",
   "execution_count": 35,
   "metadata": {
    "collapsed": false
   },
   "outputs": [],
   "source": [
    "def g(z):\n",
    "    censustree = DecisionTree(list(range(108)),census_feat_names)\n",
    "    censustree.train(census_t,census_t_label,depth = z)\n",
    "    return censustree.score(census_v,census_v_label)\n",
    "x = [1,2,3,5,10,15,20,25,30,35,40]\n",
    "y = [g(z) for z in x]\n"
   ]
  },
  {
   "cell_type": "code",
   "execution_count": 40,
   "metadata": {
    "collapsed": false
   },
   "outputs": [
    {
     "data": {
      "image/png": "[encoded data removed]",
      "text/plain": [
       "<matplotlib.figure.Figure at 0x1adfa077a58>"
      ]
     },
     "metadata": {},
     "output_type": "display_data"
    }
   ],
   "source": [
    "plt.plot(x,y)\n",
    "plt.title('Problem 6d')\n",
    "plt.ylabel(\"Validation Accuracy\")\n",
    "plt.xlabel(\"Depth of Tree\")\n",
    "plt.show()"
   ]
  },
  {
   "cell_type": "code",
   "execution_count": 37,
   "metadata": {
    "collapsed": true
   },
   "outputs": [],
   "source": [
    "#titanic shallow tree\n",
    "titanictree2 = DecisionTree(list(range(1129)),titanic_feat_names)\n",
    "titanictree2.train(titanic_hot_train,titanic_labels,3)"
   ]
  },
  {
   "cell_type": "code",
   "execution_count": 38,
   "metadata": {
    "collapsed": false
   },
   "outputs": [
    {
     "name": "stdout",
     "output_type": "stream",
     "text": [
      "feat:'sex=male',val:1.0\n",
      "<  feat:'pclass',val:3.0\n",
      "|  <  feat:'cabin=C22 C26',val:1.0\n",
      "|  |  <  class:1\n",
      "|  |  >= class:0\n",
      "|  >= feat:'fare',val:23.45\n",
      "|  |  <  class:1\n",
      "|  |  >= class:0\n",
      ">= feat:'cabin=-1',val:1.0\n",
      "|  <  feat:'age',val:18.0\n",
      "|  |  <  class:1\n",
      "|  |  >= class:0\n",
      "|  >= feat:'age',val:4.0\n",
      "|  |  <  class:1\n",
      "|  |  >= class:0\n"
     ]
    }
   ],
   "source": [
    "titanictree2.walk()"
   ]
  },
  {
   "cell_type": "code",
   "execution_count": null,
   "metadata": {
    "collapsed": true
   },
   "outputs": [],
   "source": [
    "\n",
    "# coding: utf-8\n",
    "\n",
    "# In[1]:\n",
    "\n",
    "import matplotlib\n",
    "import numpy as np\n",
    "import matplotlib.cm as cm\n",
    "import matplotlib.mlab as mlab\n",
    "import matplotlib.pyplot as plt\n",
    "import csv\n",
    "import time\n",
    "import collections\n",
    "import random\n",
    "import timeit\n",
    "import math\n",
    "\n",
    "import scipy,sklearn,pylab\n",
    "from scipy import io\n",
    "\n",
    "from sklearn import model_selection,covariance\n",
    "from sklearn.model_selection import train_test_split,KFold\n",
    "from sklearn.feature_extraction import DictVectorizer\n",
    "\n",
    "matplotlib.rcParams['xtick.direction'] = 'out'\n",
    "matplotlib.rcParams['ytick.direction'] = 'out'\n",
    "matplotlib.rcParams['figure.figsize'] = (9,8)\n",
    "\n",
    "\n",
    "# In[2]:\n",
    "\n",
    "def readfile(path, cols):\n",
    "    with open(path) as csvfile:\n",
    "        reader = csv.DictReader(csvfile)\n",
    "        q=list(reader)\n",
    "    s = [dict(([a,'-1'] if (x=='') else [a,x]) for a,x in b.items()) for b in q]\n",
    "    return [dict((\n",
    "        [a,float(x)] if a in cols else [a,x]) for a,x in b.items()) for b in s]\n",
    "\n",
    "\n",
    "# In[3]:\n",
    "\n",
    "def removeneg(data,n=None):    \n",
    "    def f(data,n=None):\n",
    "        a = data[data!=-1]\n",
    "        if n:\n",
    "            m=n\n",
    "        else:\n",
    "            m = np.median(a)\n",
    "        for i in range(len(data)):\n",
    "            if (data==-1)[i]:\n",
    "                data[i]=m\n",
    "        return m\n",
    "    l = []\n",
    "    if n:\n",
    "        for i in range(data.shape[1]):\n",
    "            f(data[:,i],n[i])\n",
    "    else:\n",
    "         for i in range(data.shape[1]):\n",
    "            l.append(f(data[:,i]))\n",
    "    return l\n",
    "\n",
    "\n",
    "# In[4]:\n",
    "\n",
    "s = readfile(\"hw5_titanic_dist/titanic_training.csv\",[\n",
    "    'pclass','age','sibsp','parch','fare'])\n",
    "\n",
    "titanic_labels = np.array([z.pop('survived') for z in s]).astype(\n",
    "    float).astype(int)\n",
    "r = readfile(\"hw5_titanic_dist/titanic_testing_data.csv\",[\n",
    "    'pclass','age','sibsp','parch','fare'])\n",
    "\n",
    "t = s+r\n",
    "\n",
    "v= sklearn.feature_extraction.DictVectorizer(sparse=False,sort=False)\n",
    "titanic_hot = v.fit_transform(t)\n",
    "titanic_hot_train = titanic_hot[:1000,:]\n",
    "titanic_test = titanic_hot[1000:,:]\n",
    "\n",
    "titanic_feat_names = v.get_feature_names()\n",
    "\n",
    "\n",
    "# In[5]:\n",
    "\n",
    "t_medians = removeneg(titanic_hot_train)\n",
    "removeneg(titanic_test,t_medians)\n",
    "#titanic_hot_train\n",
    "\n",
    "\n",
    "# In[6]:\n",
    "\n",
    "#v.inverse_transform(titanic_hot_train)\n",
    "\n",
    "\n",
    "# In[7]:\n",
    "\n",
    "spam= scipy.io.loadmat(\"hw5_spam_dist/dist/spam_data\")\n",
    "#spam\n",
    "\n",
    "\n",
    "# In[8]:\n",
    "\n",
    "spam_train = spam['training_data']\n",
    "spam_labels = spam['training_labels'][0]\n",
    "spam_test = spam['test_data']\n",
    "\n",
    "\n",
    "# In[9]:\n",
    "\n",
    "s= readfile(\"hw5_census_dist/train_data.csv\",[\n",
    "    'capital-gain','capital-loss','age','hours-per-week',\n",
    "    'education-num','fnlwgt'])\n",
    "census_labels = np.array([z.pop('label') for z in s]).astype(int)\n",
    "r = readfile(\"hw5_census_dist/test_data.csv\",[\n",
    "    'capital-gain','capital-loss','age','hours-per-week',\n",
    "    'education-num','fnlwgt'])\n",
    "\n",
    "t=s+r\n",
    "v= sklearn.feature_extraction.DictVectorizer(sparse=False,sort=False)\n",
    "census_hot = v.fit_transform(t)\n",
    "census_hot_train = census_hot[:32724,:]\n",
    "census_test = census_hot[32724:,:]\n",
    "\n",
    "census_feat_names = v.get_feature_names()\n",
    "\n",
    "\n",
    "# In[10]:\n",
    "\n",
    "#c_medians = removeneg(census_hot_train)\n",
    "#census_hot_train\n",
    "\n",
    "\n",
    "# In[11]:\n",
    "\n",
    "#v.inverse_transform(census_hot_train)\n",
    "\n",
    "\n",
    "# In[12]:\n",
    "\n",
    "class DecisionTree:\n",
    "    def __init__(self,features,featureNames=None,n=None):\n",
    "        self.features = features\n",
    "        self.n = n\n",
    "        if featureNames:\n",
    "            self.featureNames = featureNames\n",
    "        else:\n",
    "            self.featureNames = features\n",
    "    def select_features(self):        \n",
    "        if self.n:\n",
    "            return random.sample(self.features,self.n)  \n",
    "        else:\n",
    "            return self.features\n",
    "    def sort(self,S,by):\n",
    "        return [S[i] for i in np.argsort(self.data[S,by])]\n",
    "    def train(self,data,labels,depth=-1):\n",
    "        self.data = data\n",
    "        self.labels = labels\n",
    "        self.tree = self.make_tree(data,labels,depth)\n",
    "    def findleaf(self,point,node,v=False):\n",
    "        if node.isLeaf:\n",
    "            return node.cat\n",
    "        if point[node.split_feat]<node.split_val:\n",
    "            if v:\n",
    "                print(\"\\'\"+str(self.featureNames[node.split_feat])+\n",
    "                      '\\'<'+str(node.split_val))\n",
    "            return self.findleaf(point,node.left,v)\n",
    "        else:\n",
    "            if v:\n",
    "                print(\"\\'\"+str(self.featureNames[node.split_feat])+\n",
    "                      '\\'>='+str(node.split_val))\n",
    "            return self.findleaf(point,node.right,v)\n",
    "    def predict(self,data):\n",
    "        return np.apply_along_axis(self.findleaf,1,data,self.tree)\n",
    "    def score(self,v,lab):\n",
    "        return 1-np.count_nonzero(lab-self.predict(v))/lab.shape[0]\n",
    "    def make_tree(self,data,labels,depth=-1):\n",
    "        return self.make_node(list(range(data.shape[0])),depth)\n",
    "    def bfswalk(self):\n",
    "        queue = [self.tree]\n",
    "        while queue :\n",
    "            nextqueue =[]\n",
    "            for n in queue:\n",
    "                print(n, end =\" \")\n",
    "                if not n.isLeaf:\n",
    "                    nextqueue.append(n.left)\n",
    "                    nextqueue.append(n.right)\n",
    "            print(\"\")\n",
    "            queue=nextqueue\n",
    "    def walk(self):\n",
    "        self.dfswalk(self.tree)\n",
    "    def dfswalk(self,node,depth=0,c=''):\n",
    "        if node.isLeaf:\n",
    "            print('|  '*(depth-1)+c+\"class:\"+str(node.cat))\n",
    "        else:\n",
    "            print('|  '*(depth-1)+c+\"feat:\\'\"+\n",
    "                  str(self.featureNames[node.split_feat]) + '\\',val:' +\n",
    "                  str(node.split_val))\n",
    "            self.dfswalk(node.left,depth+1,c=\"<  \")\n",
    "            self.dfswalk(node.right,depth+1,c=\">= \")\n",
    "    \n",
    "                \n",
    "    class Node:\n",
    "        def __init__(self,S,isLeaf,left=None,right=None,\n",
    "                     split_feat=None,split_val=None,cat=None):\n",
    "            self.S = S\n",
    "            self.left = left\n",
    "            self.right = right\n",
    "            self.isLeaf= isLeaf\n",
    "            self.split_feat = split_feat\n",
    "            self.split_val = split_val\n",
    "            self.cat=cat\n",
    "        def __repr__(self):\n",
    "            if self.isLeaf:\n",
    "                return str(self.cat)\n",
    "            else:\n",
    "                return str(self.split_feat) + \",\"+str(self.split_val)        \n",
    "    def is_pure(self,S):\n",
    "        return len(set(self.labels[S]))==1\n",
    "    def xlog(self,x):\n",
    "        return x*math.log(x) if x > 0 else 0\n",
    "    \n",
    "    def entropy(self,left,right):\n",
    "        new = 0\n",
    "        for l in left.keys():\n",
    "            new+=self.xlog(left[l])\n",
    "        for r in right.keys():\n",
    "            new+=self.xlog(right[r])\n",
    "        new -= self.xlog(sum(right.values()))\n",
    "        new -= self.xlog(sum(left.values()))\n",
    "        return new\n",
    "                    \n",
    "    def make_node(self,S,depth=-1):\n",
    "        #print(\"making node with \"+str(S))\n",
    "        if self.is_pure(S) or depth==0: \n",
    "            #print(\"pure node \" + str(self.labels[S]))\n",
    "            return self.Node(S,isLeaf=True,cat=scipy.stats.mode(\n",
    "                self.labels[S])[0][0])\n",
    "            \n",
    "        else:\n",
    "            diff= 0\n",
    "            feat = None\n",
    "            beta = None\n",
    "            for f in self.select_features():   \n",
    "                hist = np.unique(self.data[S,f],return_counts=True)\n",
    "                sl= []\n",
    "                sr = self.sort(S,by=f)\n",
    "                sr.reverse()\n",
    "                propr = collections.Counter(self.labels[S])\n",
    "                srlen = len(sr)\n",
    "                sllen = 0\n",
    "                propl = collections.Counter()\n",
    "                new = 0\n",
    "                i=0\n",
    "                finalsl = sl[:]\n",
    "                finalsr = sr[:]\n",
    "                debt = 0\n",
    "                for val in hist[0][1:]:                   \n",
    "                    j=hist[1][i]                    \n",
    "                    l2=[sr.pop() for i in range(j)]\n",
    "                    sl.extend(l2)\n",
    "                    sam = collections.Counter(self.labels[l2])                    \n",
    "                    debt+=j\n",
    "                    propl2 = propl + sam\n",
    "                    propr2 = propr - sam\n",
    "                    for k in sam.keys():    \n",
    "                        new += self.xlog(propl[k]) -                        \n",
    "                        self.xlog(propl2[k]) +                        \n",
    "                        self.xlog(propr[k]) -                         \n",
    "                        self.xlog(propr2[k])                        \n",
    "                    propl = propl2\n",
    "                    propr = propr2                    \n",
    "                    new += -self.xlog(sllen) +self.xlog(sllen+j) -                     \n",
    "                    self.xlog(srlen) +self.xlog(srlen-j)                   \n",
    "                    sllen +=j\n",
    "                    srlen -=j\n",
    "                    i+=1\n",
    "                    if new<diff:\n",
    "                        diff = new\n",
    "                        beta = val\n",
    "                        feat = f                                                    \n",
    "                        l1 = [finalsr.pop() for i in range(debt)]\n",
    "                        finalsl.extend(l1)\n",
    "                        finalsl2 = finalsl\n",
    "                        finalsr2 = finalsr\n",
    "                        debt =0\n",
    "            if diff==0: \n",
    "                return self.Node(S,isLeaf = True,cat=scipy.stats.mode(\n",
    "                    self.labels[S])[0][0])\n",
    "            if depth>0:\n",
    "                return self.Node(S,isLeaf=False,left=self.make_node(\n",
    "                finalsl2,depth-1),right = self.make_node(\n",
    "                finalsr2,depth-1),split_feat=feat,split_val=beta)\n",
    "            else:\n",
    "                return self.Node(S,isLeaf=False,left=self.make_node(\n",
    "                finalsl2),right = self.make_node(\n",
    "                finalsr2),split_feat=feat,split_val=beta)\n",
    "\n",
    "\n",
    "# In[13]:\n",
    "\n",
    "class RandomForest:\n",
    "    def __init__(self,features,featuresNames,n=1):\n",
    "        self.features = features       \n",
    "        if featuresNames:\n",
    "            self.featureNames = featuresNames\n",
    "        else:\n",
    "            self.featureNames = features\n",
    "        self.numtrees = n\n",
    "    def train(self,data,labels,ss,m,depth=-1):\n",
    "        self.ensemble = []\n",
    "        for i in range(self.numtrees):\n",
    "            datas = np.random.choice(data.shape[0],ss,True)\n",
    "            d =DecisionTree(self.features,self.featureNames,n=int(m))\n",
    "            d.train(data[datas],labels[datas],depth)\n",
    "            self.ensemble.append(d)\n",
    "    def predictpoint(self,point):\n",
    "        l = [d.findleaf(point,d.tree) for d in self.ensemble]\n",
    "        return scipy.stats.mode(l)[0][0]\n",
    "    def predict(self,data):\n",
    "        return np.apply_along_axis(self.predictpoint,1,data)\n",
    "    def score(self,v,lab):\n",
    "        return 1-np.count_nonzero(lab-self.predict(v))/lab.shape[0]\n",
    "    def walk(self):\n",
    "        for d in self.ensemble:\n",
    "            d.walk()\n",
    "    \n",
    "        \n",
    "\n",
    "\n",
    "# In[14]:\n",
    "\n",
    "kf = KFold(n_splits = 5,shuffle=True)\n",
    "def j(data,label,names,d=-1):\n",
    "    tree = DecisionTree(list(range(data.shape[1])),names)\n",
    "    score = 0\n",
    "    for train_ind,test_ind in kf.split(data):\n",
    "        tdata = data[train_ind]\n",
    "        tlabel = label[train_ind]\n",
    "        vdata = data[test_ind]\n",
    "        vlabel = label[test_ind]        \n",
    "        tree.train(tdata,tlabel,depth=d)\n",
    "        score += tree.score(vdata,vlabel)\n",
    "\n",
    "    return score/5\n",
    "\n",
    "def k(data,label,names,num_trees,d_bag,f_bag,d=-1):\n",
    "    tree = RandomForest(list(range(data.shape[1])),names,num_trees)\n",
    "    score = 0\n",
    "    for train_ind,test_ind in kf.split(data):\n",
    "        tdata = data[train_ind]\n",
    "        tlabel = label[train_ind]\n",
    "        vdata = data[test_ind]\n",
    "        vlabel = label[test_ind]        \n",
    "        tree.train(tdata,tlabel,d_bag,f_bag,depth=d)\n",
    "        score += tree.score(vdata,vlabel)\n",
    "\n",
    "    return score/5\n",
    "\n",
    "\n",
    "# In[15]:\n",
    "\n",
    "spam_feat_names = ['pain','private','bank','money','drug','spam',\n",
    "                   'prescription','creative','height','featured',\n",
    "                   'differ','width','other','energy','business',\n",
    "                   'message','volumes','revision','path','meter',\n",
    "                   'memo','planning','pleased','record','out',';',\n",
    "                   '$','#','!','(','[','&']\n",
    "\n",
    "\n",
    "# In[16]:\n",
    "\n",
    "spam_t, spam_v, spam_t_label,spam_v_label=train_test_split(\n",
    "    spam_train,spam_labels,test_size=0.2)\n",
    "census_t, census_v, census_t_label, census_v_label = train_test_split(\n",
    "    census_hot_train,census_labels,test_size = 0.2)\n",
    "titanic_t, titanic_v, titanic_t_label, titanic_v_label = train_test_split(\n",
    "    titanic_hot_train,titanic_labels,test_size = 0.2)\n",
    "\n",
    "\n",
    "# In[17]:\n",
    "\n",
    "spamtree = DecisionTree(list(range(32)),spam_feat_names)\n",
    "spamforest = RandomForest(list(range(32)),spam_feat_names,10)\n",
    "spamtree.train(spam_t,spam_t_label)\n",
    "spamforest.train(spam_t,spam_t_label,spam_t.shape[0],np.sqrt(\n",
    "    spam_t.shape[1]))\n",
    "\n",
    "print(\"Spam Tree test accuracy:\",spamtree.score(spam_t,spam_t_label))\n",
    "print(\"Spam Tree validation accuracy:\",spamtree.score(\n",
    "    spam_v,spam_v_label))\n",
    "                                                      \n",
    "print(\"Spam Forest test accuracy:\",spamforest.score(spam_t,spam_t_label))\n",
    "print(\"Spam Forest validation accuracy:\",spamforest.score(\n",
    "    spam_v,spam_v_label))\n",
    "\n",
    "\n",
    "# In[18]:\n",
    "\n",
    "censustree = DecisionTree(list(range(108)),census_feat_names)\n",
    "censusforest = RandomForest(list(range(108)),census_feat_names,10)\n",
    "censustree.train(census_t,census_t_label)\n",
    "censusforest.train(census_t,census_t_label,census_t.shape[0],np.sqrt(\n",
    "    census_t.shape[1]))\n",
    "\n",
    "print(\"Census Tree test accuracy:\",censustree.score(\n",
    "    census_t,census_t_label))\n",
    "print(\"Census Tree validation accuracy:\",censustree.score(\n",
    "    census_v,census_v_label))\n",
    "                                                      \n",
    "print(\"Census Forest test accuracy:\",censusforest.score(\n",
    "    census_t,census_t_label))\n",
    "print(\"Census Forest validation accuracy:\",censusforest.score(\n",
    "    census_v,census_v_label))\n",
    "\n",
    "\n",
    "# In[19]:\n",
    "\n",
    "titanictree = DecisionTree(list(range(1129)),titanic_feat_names)\n",
    "titanicforest = RandomForest(list(range(1129)),titanic_feat_names,10)\n",
    "titanictree.train(titanic_t,titanic_t_label)\n",
    "titanicforest.train(titanic_t,titanic_t_label,titanic_t.shape[0],np.sqrt(\n",
    "    titanic_t.shape[1]))\n",
    "\n",
    "print(\"Titanic Tree test accuracy:\",titanictree.score(\n",
    "    titanic_t,titanic_t_label))\n",
    "print(\"Titanic Tree validation accuracy:\",titanictree.score(\n",
    "    titanic_v,titanic_v_label))\n",
    "                                                      \n",
    "print(\"Titanic Forest test accuracy:\",titanicforest.score(\n",
    "    titanic_t,titanic_t_label))\n",
    "print(\"Titanic Forest validation accuracy:\",titanicforest.score(\n",
    "    titanic_v,titanic_v_label))\n",
    "\n",
    "\n",
    "# In[20]:\n",
    "\n",
    "#for c in [1,2,3,4,5,10,15,20,25,30,40]:\n",
    "#    print(c,j(spam_train,spam_labels,spam_feat_names,c))\n",
    "\n",
    "\n",
    "# In[21]:\n",
    "\n",
    "#for k in [50]:\n",
    "#    print(c,k(spam_train,spam_labels,spam_feat_names,c,spam_train.shape[0],np.sqrt(spam_train.shape[1]),20))\n",
    "\n",
    "\n",
    "# In[22]:\n",
    "\n",
    "#kaggle\n",
    "spamforest = RandomForest(list(range(32)),spam_feat_names,50)\n",
    "spamforest.train(spam_train,spam_labels,spam_train.shape[0],np.sqrt(\n",
    "    spam_train.shape[1]),depth=20)\n",
    "censusforest = RandomForest(list(range(108)),census_feat_names,10)\n",
    "censusforest.train(\n",
    "    census_hot_train,census_labels,census_hot_train.shape[0],np.sqrt(\n",
    "    census_hot_train.shape[1]))\n",
    "titanicforest = RandomForest(list(range(1129)),titanic_feat_names,20)\n",
    "titanicforest.train(\n",
    "    titanic_hot_train,titanic_labels,titanic_hot_train.shape[0],7*np.sqrt(\n",
    "    titanic_hot_train.shape[1]))\n",
    "\n",
    "\n",
    "# In[23]:\n",
    "\n",
    "def output(self,path,data,zindex=0):\n",
    "        np.savetxt(\n",
    "        path, np.column_stack(\n",
    "        (np.array(\n",
    "            list(zindex+np.arange(data.shape[0]))),self.predict(\n",
    "            data))).astype(int), \n",
    "        fmt =\"%i\",delimiter = \",\", \n",
    "        header = \"Id,Category\",comments = \"\")\n",
    "\n",
    "\n",
    "# In[24]:\n",
    "\n",
    "output(spamforest,\"spamkaggle.csv\",spam_test,0)\n",
    "\n",
    "\n",
    "# ![spam](spamkaggle.PNG)\n",
    "\n",
    "# In[25]:\n",
    "\n",
    "output(censusforest,\"censuskaggle.csv\",census_test,1)\n",
    "\n",
    "\n",
    "# ![census](censuskaggle.PNG)\n",
    "\n",
    "# In[26]:\n",
    "\n",
    "output(titanicforest,\"titanicforest.csv\",titanic_test,1)\n",
    "\n",
    "\n",
    "# ![titanic](titanickaggle.PNG)\n",
    "\n",
    "# In[27]:\n",
    "\n",
    "spamtree2 = DecisionTree(list(range(32)),spam_feat_names)\n",
    "spamtree2.train(spam_train,spam_labels)\n",
    "spamforest2 = RandomForest(list(range(32)),spam_feat_names,64)\n",
    "spamforest2.train(spam_train,spam_labels,spam_train.shape[0],np.sqrt(\n",
    "    spam_train.shape[1]),depth=1)\n",
    "\n",
    "\n",
    "# In[28]:\n",
    "\n",
    "#classify spam\n",
    "spamtree2.findleaf(spam_train[0],spamtree.tree,True)\n",
    "\n",
    "\n",
    "# In[29]:\n",
    "\n",
    "#classify ham\n",
    "spamtree2.findleaf(spam_train[-1],spamtree.tree,True)\n",
    "\n",
    "\n",
    "# In[30]:\n",
    "\n",
    "#most often split\n",
    "c = collections.Counter()\n",
    "for t in spamforest2.ensemble:\n",
    "    c[(spamforest2.featureNames[t.tree.split_feat],t.tree.split_val)] +=1\n",
    "c\n",
    "\n",
    "\n",
    "# In[31]:\n",
    "\n",
    "censustree2 = DecisionTree(list(range(108)),census_feat_names)\n",
    "censustree2.train(census_t,census_t_label)\n",
    "censusforest2 = RandomForest(list(range(108)),census_feat_names,216)\n",
    "censusforest2.train(\n",
    "    census_hot_train,census_labels,census_hot_train.shape[0],np.sqrt(\n",
    "    census_hot_train.shape[1]),depth=1)\n",
    "\n",
    "\n",
    "# In[32]:\n",
    "\n",
    "#classify 1\n",
    "censustree2.findleaf(census_hot_train[4],censustree.tree,True)\n",
    "\n",
    "\n",
    "# In[33]:\n",
    "\n",
    "#classify 0\n",
    "censustree2.findleaf(census_hot_train[0],censustree.tree,True)\n",
    "\n",
    "\n",
    "# In[34]:\n",
    "\n",
    "#most often split\n",
    "c = collections.Counter()\n",
    "for t in censusforest2.ensemble:\n",
    "    c[(censusforest2.featureNames[t.tree.split_feat],t.tree.split_val)] +=1\n",
    "c\n",
    "\n",
    "\n",
    "# In[35]:\n",
    "\n",
    "def g(z):\n",
    "    censustree = DecisionTree(list(range(108)),census_feat_names)\n",
    "    censustree.train(census_t,census_t_label,depth = z)\n",
    "    return censustree.score(census_v,census_v_label)\n",
    "x = [1,2,3,5,10,15,20,25,30,35,40]\n",
    "y = [g(z) for z in x]\n",
    "\n",
    "\n",
    "# In[36]:\n",
    "\n",
    "plt.plot(x,y)\n",
    "plt.title('Problem 6d')\n",
    "plt.ylabel(\"Validation Accuracy\")\n",
    "plt.xlabel(\"Number of Trees\")\n",
    "plt.show()\n",
    "\n",
    "\n",
    "# In[37]:\n",
    "\n",
    "#titanic shallow tree\n",
    "titanictree2 = DecisionTree(list(range(1129)),titanic_feat_names)\n",
    "titanictree2.train(titanic_hot_train,titanic_labels,3)\n",
    "\n",
    "\n",
    "# In[38]:\n",
    "\n",
    "titanictree2.walk()\n",
    "\n",
    "\n",
    "# In[ ]:\n",
    "\n",
    "\n",
    "\n"
   ]
  }
 ],
 "metadata": {
  "kernelspec": {
   "display_name": "Python 3",
   "language": "python",
   "name": "python3"
  },
  "language_info": {
   "codemirror_mode": {
    "name": "ipython",
    "version": 3
   },
   "file_extension": ".py",
   "mimetype": "text/x-python",
   "name": "python",
   "nbconvert_exporter": "python",
   "pygments_lexer": "ipython3",
   "version": "3.6.0"
  }
 },
 "nbformat": 4,
 "nbformat_minor": 2
}
